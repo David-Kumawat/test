{
  "nbformat": 4,
  "nbformat_minor": 0,
  "metadata": {
    "colab": {
      "provenance": [],
      "authorship_tag": "ABX9TyO9JrsnvOgTcFfSLp650uzh",
      "include_colab_link": true
    },
    "kernelspec": {
      "name": "python3",
      "display_name": "Python 3"
    },
    "language_info": {
      "name": "python"
    }
  },
  "cells": [
    {
      "cell_type": "markdown",
      "metadata": {
        "id": "view-in-github",
        "colab_type": "text"
      },
      "source": [
        "<a href=\"https://colab.research.google.com/github/David-Kumawat/test/blob/main/(practise)Data_Wrangling.ipynb\" target=\"_parent\"><img src=\"https://colab.research.google.com/assets/colab-badge.svg\" alt=\"Open In Colab\"/></a>"
      ]
    },
    {
      "cell_type": "markdown",
      "source": [],
      "metadata": {
        "id": "CQpRCbJke8_a"
      }
    },
    {
      "cell_type": "code",
      "source": [
        "import pandas as pd\n",
        "import numpy as np"
      ],
      "metadata": {
        "id": "jEgZKGCwZ0ve"
      },
      "execution_count": 190,
      "outputs": []
    },
    {
      "cell_type": "markdown",
      "source": [
        "## You have been hired by a rookie movie producer to help him decide what type of movies to produce and which actors to cast. You have to back your recommendations based on thorough analysis of the data he shared with you which has the list of 3000 movies and the corresponding details.\n",
        "\n",
        "## As a data scientist, you have to first explore the data and check its sanity.\n",
        "\n",
        "## Further, you have to answer the following questions:\n",
        "1. ### <b> Which movie made the highest profit? Who were its producer and director? Identify the actors in that film.</b>\n",
        "2. ### <b>This data has information about movies made in different languages. Which language has the highest average ROI (return on investment)? </b>\n",
        "3. ### <b> Find out the unique genres of movies in this dataset.</b>\n",
        "4. ### <b> Make a table of all the producers and directors of each movie. Find the top 3 producers who have produced movies with the highest average RoI? </b>\n",
        "5. ### <b> Which actor has acted in the most number of movies? Deep dive into the movies, genres and profits corresponding to this actor. </b>\n",
        "6. ### <b>Top 3 directors prefer which actors the most? </b>"
      ],
      "metadata": {
        "id": "1x8yzetraq9l"
      }
    },
    {
      "cell_type": "code",
      "source": [
        "from google.colab import drive\n",
        "drive.mount('/content/drive/')"
      ],
      "metadata": {
        "colab": {
          "base_uri": "https://localhost:8080/"
        },
        "id": "CJQQullHZ7FM",
        "outputId": "bb1164c6-529c-4e5a-ddef-46462e603e66"
      },
      "execution_count": 2,
      "outputs": [
        {
          "output_type": "stream",
          "name": "stdout",
          "text": [
            "Mounted at /content/drive/\n"
          ]
        }
      ]
    },
    {
      "cell_type": "code",
      "source": [
        "path = \"/content/drive/MyDrive/imdb_data.csv\"\n",
        "df = pd.read_csv(path)"
      ],
      "metadata": {
        "id": "eNAbTsEKaI3_"
      },
      "execution_count": 221,
      "outputs": []
    },
    {
      "cell_type": "code",
      "source": [
        "df.head()"
      ],
      "metadata": {
        "colab": {
          "base_uri": "https://localhost:8080/",
          "height": 716
        },
        "id": "CLXEnEr4afXL",
        "outputId": "c15f5524-3dab-4012-f808-2b2167377440"
      },
      "execution_count": 222,
      "outputs": [
        {
          "output_type": "execute_result",
          "data": {
            "text/plain": [
              "   id                              belongs_to_collection    budget  \\\n",
              "0   1  [{'id': 313576, 'name': 'Hot Tub Time Machine ...  14000000   \n",
              "1   2  [{'id': 107674, 'name': 'The Princess Diaries ...  40000000   \n",
              "2   3                                                NaN   3300000   \n",
              "3   4                                                NaN   1200000   \n",
              "4   5                                                NaN         0   \n",
              "\n",
              "                                              genres  \\\n",
              "0                     [{'id': 35, 'name': 'Comedy'}]   \n",
              "1  [{'id': 35, 'name': 'Comedy'}, {'id': 18, 'nam...   \n",
              "2                      [{'id': 18, 'name': 'Drama'}]   \n",
              "3  [{'id': 53, 'name': 'Thriller'}, {'id': 18, 'n...   \n",
              "4  [{'id': 28, 'name': 'Action'}, {'id': 53, 'nam...   \n",
              "\n",
              "                            homepage    imdb_id original_language  \\\n",
              "0                                NaN  tt2637294                en   \n",
              "1                                NaN  tt0368933                en   \n",
              "2  http://sonyclassics.com/whiplash/  tt2582802                en   \n",
              "3         http://kahaanithefilm.com/  tt1821480                hi   \n",
              "4                                NaN  tt1380152                ko   \n",
              "\n",
              "                             original_title  \\\n",
              "0                    Hot Tub Time Machine 2   \n",
              "1  The Princess Diaries 2: Royal Engagement   \n",
              "2                                  Whiplash   \n",
              "3                                   Kahaani   \n",
              "4                                      마린보이   \n",
              "\n",
              "                                            overview  popularity  ...  \\\n",
              "0  When Lou, who has become the \"father of the In...       6.58%  ...   \n",
              "1  Mia Thermopolis is now a college graduate and ...       8.25%  ...   \n",
              "2  Under the direction of a ruthless instructor, ...      64.30%  ...   \n",
              "3  Vidya Bagchi (Vidya Balan) arrives in Kolkata ...       3.17%  ...   \n",
              "4  Marine Boy is the story of a former national s...       1.15%  ...   \n",
              "\n",
              "  release_date runtime                                   spoken_languages  \\\n",
              "0      2/20/15  93.00%           [{'iso_639_1': 'en', 'name': 'English'}]   \n",
              "1       8/6/04 113.00%           [{'iso_639_1': 'en', 'name': 'English'}]   \n",
              "2     10/10/14 105.00%           [{'iso_639_1': 'en', 'name': 'English'}]   \n",
              "3       3/9/12 122.00%  [{'iso_639_1': 'en', 'name': 'English'}, {'iso...   \n",
              "4       2/5/09 118.00%           [{'iso_639_1': 'ko', 'name': '한국어/조선말'}]   \n",
              "\n",
              "     status                                            tagline  \\\n",
              "0  Released  The Laws of Space and Time are About to be Vio...   \n",
              "1  Released  It can take a lifetime to find true love; she'...   \n",
              "2  Released    The road to greatness can take you to the edge.   \n",
              "3  Released                                                NaN   \n",
              "4  Released                                                NaN   \n",
              "\n",
              "                                      title  \\\n",
              "0                    Hot Tub Time Machine 2   \n",
              "1  The Princess Diaries 2: Royal Engagement   \n",
              "2                                  Whiplash   \n",
              "3                                   Kahaani   \n",
              "4                                Marine Boy   \n",
              "\n",
              "                                            Keywords  \\\n",
              "0  [{'id': 4379, 'name': 'time travel'}, {'id': 9...   \n",
              "1  [{'id': 2505, 'name': 'coronation'}, {'id': 42...   \n",
              "2  [{'id': 1416, 'name': 'jazz'}, {'id': 1523, 'n...   \n",
              "3  [{'id': 10092, 'name': 'mystery'}, {'id': 1054...   \n",
              "4                                                NaN   \n",
              "\n",
              "                                                cast  \\\n",
              "0  [{'cast_id': 4, 'character': 'Lou', 'credit_id...   \n",
              "1  [{'cast_id': 1, 'character': 'Mia Thermopolis'...   \n",
              "2  [{'cast_id': 5, 'character': 'Andrew Neimann',...   \n",
              "3  [{'cast_id': 1, 'character': 'Vidya Bagchi', '...   \n",
              "4  [{'cast_id': 3, 'character': 'Chun-soo', 'cred...   \n",
              "\n",
              "                                                crew   revenue  \n",
              "0  [{'credit_id': '59ac067c92514107af02c8c8', 'de...  12314651  \n",
              "1  [{'credit_id': '52fe43fe9251416c7502563d', 'de...  95149435  \n",
              "2  [{'credit_id': '54d5356ec3a3683ba0000039', 'de...  13092000  \n",
              "3  [{'credit_id': '52fe48779251416c9108d6eb', 'de...  16000000  \n",
              "4  [{'credit_id': '52fe464b9251416c75073b43', 'de...   3923970  \n",
              "\n",
              "[5 rows x 23 columns]"
            ],
            "text/html": [
              "\n",
              "  <div id=\"df-32df0cde-c965-496c-a299-b3fcf70e321d\">\n",
              "    <div class=\"colab-df-container\">\n",
              "      <div>\n",
              "<style scoped>\n",
              "    .dataframe tbody tr th:only-of-type {\n",
              "        vertical-align: middle;\n",
              "    }\n",
              "\n",
              "    .dataframe tbody tr th {\n",
              "        vertical-align: top;\n",
              "    }\n",
              "\n",
              "    .dataframe thead th {\n",
              "        text-align: right;\n",
              "    }\n",
              "</style>\n",
              "<table border=\"1\" class=\"dataframe\">\n",
              "  <thead>\n",
              "    <tr style=\"text-align: right;\">\n",
              "      <th></th>\n",
              "      <th>id</th>\n",
              "      <th>belongs_to_collection</th>\n",
              "      <th>budget</th>\n",
              "      <th>genres</th>\n",
              "      <th>homepage</th>\n",
              "      <th>imdb_id</th>\n",
              "      <th>original_language</th>\n",
              "      <th>original_title</th>\n",
              "      <th>overview</th>\n",
              "      <th>popularity</th>\n",
              "      <th>...</th>\n",
              "      <th>release_date</th>\n",
              "      <th>runtime</th>\n",
              "      <th>spoken_languages</th>\n",
              "      <th>status</th>\n",
              "      <th>tagline</th>\n",
              "      <th>title</th>\n",
              "      <th>Keywords</th>\n",
              "      <th>cast</th>\n",
              "      <th>crew</th>\n",
              "      <th>revenue</th>\n",
              "    </tr>\n",
              "  </thead>\n",
              "  <tbody>\n",
              "    <tr>\n",
              "      <th>0</th>\n",
              "      <td>1</td>\n",
              "      <td>[{'id': 313576, 'name': 'Hot Tub Time Machine ...</td>\n",
              "      <td>14000000</td>\n",
              "      <td>[{'id': 35, 'name': 'Comedy'}]</td>\n",
              "      <td>NaN</td>\n",
              "      <td>tt2637294</td>\n",
              "      <td>en</td>\n",
              "      <td>Hot Tub Time Machine 2</td>\n",
              "      <td>When Lou, who has become the \"father of the In...</td>\n",
              "      <td>6.58%</td>\n",
              "      <td>...</td>\n",
              "      <td>2/20/15</td>\n",
              "      <td>93.00%</td>\n",
              "      <td>[{'iso_639_1': 'en', 'name': 'English'}]</td>\n",
              "      <td>Released</td>\n",
              "      <td>The Laws of Space and Time are About to be Vio...</td>\n",
              "      <td>Hot Tub Time Machine 2</td>\n",
              "      <td>[{'id': 4379, 'name': 'time travel'}, {'id': 9...</td>\n",
              "      <td>[{'cast_id': 4, 'character': 'Lou', 'credit_id...</td>\n",
              "      <td>[{'credit_id': '59ac067c92514107af02c8c8', 'de...</td>\n",
              "      <td>12314651</td>\n",
              "    </tr>\n",
              "    <tr>\n",
              "      <th>1</th>\n",
              "      <td>2</td>\n",
              "      <td>[{'id': 107674, 'name': 'The Princess Diaries ...</td>\n",
              "      <td>40000000</td>\n",
              "      <td>[{'id': 35, 'name': 'Comedy'}, {'id': 18, 'nam...</td>\n",
              "      <td>NaN</td>\n",
              "      <td>tt0368933</td>\n",
              "      <td>en</td>\n",
              "      <td>The Princess Diaries 2: Royal Engagement</td>\n",
              "      <td>Mia Thermopolis is now a college graduate and ...</td>\n",
              "      <td>8.25%</td>\n",
              "      <td>...</td>\n",
              "      <td>8/6/04</td>\n",
              "      <td>113.00%</td>\n",
              "      <td>[{'iso_639_1': 'en', 'name': 'English'}]</td>\n",
              "      <td>Released</td>\n",
              "      <td>It can take a lifetime to find true love; she'...</td>\n",
              "      <td>The Princess Diaries 2: Royal Engagement</td>\n",
              "      <td>[{'id': 2505, 'name': 'coronation'}, {'id': 42...</td>\n",
              "      <td>[{'cast_id': 1, 'character': 'Mia Thermopolis'...</td>\n",
              "      <td>[{'credit_id': '52fe43fe9251416c7502563d', 'de...</td>\n",
              "      <td>95149435</td>\n",
              "    </tr>\n",
              "    <tr>\n",
              "      <th>2</th>\n",
              "      <td>3</td>\n",
              "      <td>NaN</td>\n",
              "      <td>3300000</td>\n",
              "      <td>[{'id': 18, 'name': 'Drama'}]</td>\n",
              "      <td>http://sonyclassics.com/whiplash/</td>\n",
              "      <td>tt2582802</td>\n",
              "      <td>en</td>\n",
              "      <td>Whiplash</td>\n",
              "      <td>Under the direction of a ruthless instructor, ...</td>\n",
              "      <td>64.30%</td>\n",
              "      <td>...</td>\n",
              "      <td>10/10/14</td>\n",
              "      <td>105.00%</td>\n",
              "      <td>[{'iso_639_1': 'en', 'name': 'English'}]</td>\n",
              "      <td>Released</td>\n",
              "      <td>The road to greatness can take you to the edge.</td>\n",
              "      <td>Whiplash</td>\n",
              "      <td>[{'id': 1416, 'name': 'jazz'}, {'id': 1523, 'n...</td>\n",
              "      <td>[{'cast_id': 5, 'character': 'Andrew Neimann',...</td>\n",
              "      <td>[{'credit_id': '54d5356ec3a3683ba0000039', 'de...</td>\n",
              "      <td>13092000</td>\n",
              "    </tr>\n",
              "    <tr>\n",
              "      <th>3</th>\n",
              "      <td>4</td>\n",
              "      <td>NaN</td>\n",
              "      <td>1200000</td>\n",
              "      <td>[{'id': 53, 'name': 'Thriller'}, {'id': 18, 'n...</td>\n",
              "      <td>http://kahaanithefilm.com/</td>\n",
              "      <td>tt1821480</td>\n",
              "      <td>hi</td>\n",
              "      <td>Kahaani</td>\n",
              "      <td>Vidya Bagchi (Vidya Balan) arrives in Kolkata ...</td>\n",
              "      <td>3.17%</td>\n",
              "      <td>...</td>\n",
              "      <td>3/9/12</td>\n",
              "      <td>122.00%</td>\n",
              "      <td>[{'iso_639_1': 'en', 'name': 'English'}, {'iso...</td>\n",
              "      <td>Released</td>\n",
              "      <td>NaN</td>\n",
              "      <td>Kahaani</td>\n",
              "      <td>[{'id': 10092, 'name': 'mystery'}, {'id': 1054...</td>\n",
              "      <td>[{'cast_id': 1, 'character': 'Vidya Bagchi', '...</td>\n",
              "      <td>[{'credit_id': '52fe48779251416c9108d6eb', 'de...</td>\n",
              "      <td>16000000</td>\n",
              "    </tr>\n",
              "    <tr>\n",
              "      <th>4</th>\n",
              "      <td>5</td>\n",
              "      <td>NaN</td>\n",
              "      <td>0</td>\n",
              "      <td>[{'id': 28, 'name': 'Action'}, {'id': 53, 'nam...</td>\n",
              "      <td>NaN</td>\n",
              "      <td>tt1380152</td>\n",
              "      <td>ko</td>\n",
              "      <td>마린보이</td>\n",
              "      <td>Marine Boy is the story of a former national s...</td>\n",
              "      <td>1.15%</td>\n",
              "      <td>...</td>\n",
              "      <td>2/5/09</td>\n",
              "      <td>118.00%</td>\n",
              "      <td>[{'iso_639_1': 'ko', 'name': '한국어/조선말'}]</td>\n",
              "      <td>Released</td>\n",
              "      <td>NaN</td>\n",
              "      <td>Marine Boy</td>\n",
              "      <td>NaN</td>\n",
              "      <td>[{'cast_id': 3, 'character': 'Chun-soo', 'cred...</td>\n",
              "      <td>[{'credit_id': '52fe464b9251416c75073b43', 'de...</td>\n",
              "      <td>3923970</td>\n",
              "    </tr>\n",
              "  </tbody>\n",
              "</table>\n",
              "<p>5 rows × 23 columns</p>\n",
              "</div>\n",
              "      <button class=\"colab-df-convert\" onclick=\"convertToInteractive('df-32df0cde-c965-496c-a299-b3fcf70e321d')\"\n",
              "              title=\"Convert this dataframe to an interactive table.\"\n",
              "              style=\"display:none;\">\n",
              "        \n",
              "  <svg xmlns=\"http://www.w3.org/2000/svg\" height=\"24px\"viewBox=\"0 0 24 24\"\n",
              "       width=\"24px\">\n",
              "    <path d=\"M0 0h24v24H0V0z\" fill=\"none\"/>\n",
              "    <path d=\"M18.56 5.44l.94 2.06.94-2.06 2.06-.94-2.06-.94-.94-2.06-.94 2.06-2.06.94zm-11 1L8.5 8.5l.94-2.06 2.06-.94-2.06-.94L8.5 2.5l-.94 2.06-2.06.94zm10 10l.94 2.06.94-2.06 2.06-.94-2.06-.94-.94-2.06-.94 2.06-2.06.94z\"/><path d=\"M17.41 7.96l-1.37-1.37c-.4-.4-.92-.59-1.43-.59-.52 0-1.04.2-1.43.59L10.3 9.45l-7.72 7.72c-.78.78-.78 2.05 0 2.83L4 21.41c.39.39.9.59 1.41.59.51 0 1.02-.2 1.41-.59l7.78-7.78 2.81-2.81c.8-.78.8-2.07 0-2.86zM5.41 20L4 18.59l7.72-7.72 1.47 1.35L5.41 20z\"/>\n",
              "  </svg>\n",
              "      </button>\n",
              "      \n",
              "  <style>\n",
              "    .colab-df-container {\n",
              "      display:flex;\n",
              "      flex-wrap:wrap;\n",
              "      gap: 12px;\n",
              "    }\n",
              "\n",
              "    .colab-df-convert {\n",
              "      background-color: #E8F0FE;\n",
              "      border: none;\n",
              "      border-radius: 50%;\n",
              "      cursor: pointer;\n",
              "      display: none;\n",
              "      fill: #1967D2;\n",
              "      height: 32px;\n",
              "      padding: 0 0 0 0;\n",
              "      width: 32px;\n",
              "    }\n",
              "\n",
              "    .colab-df-convert:hover {\n",
              "      background-color: #E2EBFA;\n",
              "      box-shadow: 0px 1px 2px rgba(60, 64, 67, 0.3), 0px 1px 3px 1px rgba(60, 64, 67, 0.15);\n",
              "      fill: #174EA6;\n",
              "    }\n",
              "\n",
              "    [theme=dark] .colab-df-convert {\n",
              "      background-color: #3B4455;\n",
              "      fill: #D2E3FC;\n",
              "    }\n",
              "\n",
              "    [theme=dark] .colab-df-convert:hover {\n",
              "      background-color: #434B5C;\n",
              "      box-shadow: 0px 1px 3px 1px rgba(0, 0, 0, 0.15);\n",
              "      filter: drop-shadow(0px 1px 2px rgba(0, 0, 0, 0.3));\n",
              "      fill: #FFFFFF;\n",
              "    }\n",
              "  </style>\n",
              "\n",
              "      <script>\n",
              "        const buttonEl =\n",
              "          document.querySelector('#df-32df0cde-c965-496c-a299-b3fcf70e321d button.colab-df-convert');\n",
              "        buttonEl.style.display =\n",
              "          google.colab.kernel.accessAllowed ? 'block' : 'none';\n",
              "\n",
              "        async function convertToInteractive(key) {\n",
              "          const element = document.querySelector('#df-32df0cde-c965-496c-a299-b3fcf70e321d');\n",
              "          const dataTable =\n",
              "            await google.colab.kernel.invokeFunction('convertToInteractive',\n",
              "                                                     [key], {});\n",
              "          if (!dataTable) return;\n",
              "\n",
              "          const docLinkHtml = 'Like what you see? Visit the ' +\n",
              "            '<a target=\"_blank\" href=https://colab.research.google.com/notebooks/data_table.ipynb>data table notebook</a>'\n",
              "            + ' to learn more about interactive tables.';\n",
              "          element.innerHTML = '';\n",
              "          dataTable['output_type'] = 'display_data';\n",
              "          await google.colab.output.renderOutput(dataTable, element);\n",
              "          const docLink = document.createElement('div');\n",
              "          docLink.innerHTML = docLinkHtml;\n",
              "          element.appendChild(docLink);\n",
              "        }\n",
              "      </script>\n",
              "    </div>\n",
              "  </div>\n",
              "  "
            ]
          },
          "metadata": {},
          "execution_count": 222
        }
      ]
    },
    {
      "cell_type": "code",
      "source": [
        "print(df.columns)"
      ],
      "metadata": {
        "colab": {
          "base_uri": "https://localhost:8080/"
        },
        "id": "G7CwV9w4a4dw",
        "outputId": "96fc57c3-83b8-4cea-c3a3-de0b42f11f07"
      },
      "execution_count": 223,
      "outputs": [
        {
          "output_type": "stream",
          "name": "stdout",
          "text": [
            "Index(['id', 'belongs_to_collection', 'budget', 'genres', 'homepage',\n",
            "       'imdb_id', 'original_language', 'original_title', 'overview',\n",
            "       'popularity', 'poster_path', 'production_companies',\n",
            "       'production_countries', 'release_date', 'runtime', 'spoken_languages',\n",
            "       'status', 'tagline', 'title', 'Keywords', 'cast', 'crew', 'revenue'],\n",
            "      dtype='object')\n"
          ]
        }
      ]
    },
    {
      "cell_type": "code",
      "source": [
        "columns = ['budget','genres','original_language','original_title','popularity','cast','crew','revenue']"
      ],
      "metadata": {
        "id": "N1rfD5fPahn6"
      },
      "execution_count": 224,
      "outputs": []
    },
    {
      "cell_type": "code",
      "source": [
        "df = df[columns]"
      ],
      "metadata": {
        "id": "Latmj-T2bMTL"
      },
      "execution_count": 225,
      "outputs": []
    },
    {
      "cell_type": "code",
      "source": [
        "df.head()"
      ],
      "metadata": {
        "colab": {
          "base_uri": "https://localhost:8080/",
          "height": 337
        },
        "id": "ENgxHlotbObK",
        "outputId": "710e2749-5186-40a1-9c23-eeb84a3cf33b"
      },
      "execution_count": 8,
      "outputs": [
        {
          "output_type": "execute_result",
          "data": {
            "text/plain": [
              "     budget                                             genres  \\\n",
              "0  14000000                     [{'id': 35, 'name': 'Comedy'}]   \n",
              "1  40000000  [{'id': 35, 'name': 'Comedy'}, {'id': 18, 'nam...   \n",
              "2   3300000                      [{'id': 18, 'name': 'Drama'}]   \n",
              "3   1200000  [{'id': 53, 'name': 'Thriller'}, {'id': 18, 'n...   \n",
              "4         0  [{'id': 28, 'name': 'Action'}, {'id': 53, 'nam...   \n",
              "\n",
              "  original_language                            original_title  \\\n",
              "0                en                    Hot Tub Time Machine 2   \n",
              "1                en  The Princess Diaries 2: Royal Engagement   \n",
              "2                en                                  Whiplash   \n",
              "3                hi                                   Kahaani   \n",
              "4                ko                                      마린보이   \n",
              "\n",
              "                                                cast  \\\n",
              "0  [{'cast_id': 4, 'character': 'Lou', 'credit_id...   \n",
              "1  [{'cast_id': 1, 'character': 'Mia Thermopolis'...   \n",
              "2  [{'cast_id': 5, 'character': 'Andrew Neimann',...   \n",
              "3  [{'cast_id': 1, 'character': 'Vidya Bagchi', '...   \n",
              "4  [{'cast_id': 3, 'character': 'Chun-soo', 'cred...   \n",
              "\n",
              "                                                crew   revenue  \n",
              "0  [{'credit_id': '59ac067c92514107af02c8c8', 'de...  12314651  \n",
              "1  [{'credit_id': '52fe43fe9251416c7502563d', 'de...  95149435  \n",
              "2  [{'credit_id': '54d5356ec3a3683ba0000039', 'de...  13092000  \n",
              "3  [{'credit_id': '52fe48779251416c9108d6eb', 'de...  16000000  \n",
              "4  [{'credit_id': '52fe464b9251416c75073b43', 'de...   3923970  "
            ],
            "text/html": [
              "\n",
              "  <div id=\"df-3b68e5a4-043d-476c-8a45-d4afa6a9124b\">\n",
              "    <div class=\"colab-df-container\">\n",
              "      <div>\n",
              "<style scoped>\n",
              "    .dataframe tbody tr th:only-of-type {\n",
              "        vertical-align: middle;\n",
              "    }\n",
              "\n",
              "    .dataframe tbody tr th {\n",
              "        vertical-align: top;\n",
              "    }\n",
              "\n",
              "    .dataframe thead th {\n",
              "        text-align: right;\n",
              "    }\n",
              "</style>\n",
              "<table border=\"1\" class=\"dataframe\">\n",
              "  <thead>\n",
              "    <tr style=\"text-align: right;\">\n",
              "      <th></th>\n",
              "      <th>budget</th>\n",
              "      <th>genres</th>\n",
              "      <th>original_language</th>\n",
              "      <th>original_title</th>\n",
              "      <th>cast</th>\n",
              "      <th>crew</th>\n",
              "      <th>revenue</th>\n",
              "    </tr>\n",
              "  </thead>\n",
              "  <tbody>\n",
              "    <tr>\n",
              "      <th>0</th>\n",
              "      <td>14000000</td>\n",
              "      <td>[{'id': 35, 'name': 'Comedy'}]</td>\n",
              "      <td>en</td>\n",
              "      <td>Hot Tub Time Machine 2</td>\n",
              "      <td>[{'cast_id': 4, 'character': 'Lou', 'credit_id...</td>\n",
              "      <td>[{'credit_id': '59ac067c92514107af02c8c8', 'de...</td>\n",
              "      <td>12314651</td>\n",
              "    </tr>\n",
              "    <tr>\n",
              "      <th>1</th>\n",
              "      <td>40000000</td>\n",
              "      <td>[{'id': 35, 'name': 'Comedy'}, {'id': 18, 'nam...</td>\n",
              "      <td>en</td>\n",
              "      <td>The Princess Diaries 2: Royal Engagement</td>\n",
              "      <td>[{'cast_id': 1, 'character': 'Mia Thermopolis'...</td>\n",
              "      <td>[{'credit_id': '52fe43fe9251416c7502563d', 'de...</td>\n",
              "      <td>95149435</td>\n",
              "    </tr>\n",
              "    <tr>\n",
              "      <th>2</th>\n",
              "      <td>3300000</td>\n",
              "      <td>[{'id': 18, 'name': 'Drama'}]</td>\n",
              "      <td>en</td>\n",
              "      <td>Whiplash</td>\n",
              "      <td>[{'cast_id': 5, 'character': 'Andrew Neimann',...</td>\n",
              "      <td>[{'credit_id': '54d5356ec3a3683ba0000039', 'de...</td>\n",
              "      <td>13092000</td>\n",
              "    </tr>\n",
              "    <tr>\n",
              "      <th>3</th>\n",
              "      <td>1200000</td>\n",
              "      <td>[{'id': 53, 'name': 'Thriller'}, {'id': 18, 'n...</td>\n",
              "      <td>hi</td>\n",
              "      <td>Kahaani</td>\n",
              "      <td>[{'cast_id': 1, 'character': 'Vidya Bagchi', '...</td>\n",
              "      <td>[{'credit_id': '52fe48779251416c9108d6eb', 'de...</td>\n",
              "      <td>16000000</td>\n",
              "    </tr>\n",
              "    <tr>\n",
              "      <th>4</th>\n",
              "      <td>0</td>\n",
              "      <td>[{'id': 28, 'name': 'Action'}, {'id': 53, 'nam...</td>\n",
              "      <td>ko</td>\n",
              "      <td>마린보이</td>\n",
              "      <td>[{'cast_id': 3, 'character': 'Chun-soo', 'cred...</td>\n",
              "      <td>[{'credit_id': '52fe464b9251416c75073b43', 'de...</td>\n",
              "      <td>3923970</td>\n",
              "    </tr>\n",
              "  </tbody>\n",
              "</table>\n",
              "</div>\n",
              "      <button class=\"colab-df-convert\" onclick=\"convertToInteractive('df-3b68e5a4-043d-476c-8a45-d4afa6a9124b')\"\n",
              "              title=\"Convert this dataframe to an interactive table.\"\n",
              "              style=\"display:none;\">\n",
              "        \n",
              "  <svg xmlns=\"http://www.w3.org/2000/svg\" height=\"24px\"viewBox=\"0 0 24 24\"\n",
              "       width=\"24px\">\n",
              "    <path d=\"M0 0h24v24H0V0z\" fill=\"none\"/>\n",
              "    <path d=\"M18.56 5.44l.94 2.06.94-2.06 2.06-.94-2.06-.94-.94-2.06-.94 2.06-2.06.94zm-11 1L8.5 8.5l.94-2.06 2.06-.94-2.06-.94L8.5 2.5l-.94 2.06-2.06.94zm10 10l.94 2.06.94-2.06 2.06-.94-2.06-.94-.94-2.06-.94 2.06-2.06.94z\"/><path d=\"M17.41 7.96l-1.37-1.37c-.4-.4-.92-.59-1.43-.59-.52 0-1.04.2-1.43.59L10.3 9.45l-7.72 7.72c-.78.78-.78 2.05 0 2.83L4 21.41c.39.39.9.59 1.41.59.51 0 1.02-.2 1.41-.59l7.78-7.78 2.81-2.81c.8-.78.8-2.07 0-2.86zM5.41 20L4 18.59l7.72-7.72 1.47 1.35L5.41 20z\"/>\n",
              "  </svg>\n",
              "      </button>\n",
              "      \n",
              "  <style>\n",
              "    .colab-df-container {\n",
              "      display:flex;\n",
              "      flex-wrap:wrap;\n",
              "      gap: 12px;\n",
              "    }\n",
              "\n",
              "    .colab-df-convert {\n",
              "      background-color: #E8F0FE;\n",
              "      border: none;\n",
              "      border-radius: 50%;\n",
              "      cursor: pointer;\n",
              "      display: none;\n",
              "      fill: #1967D2;\n",
              "      height: 32px;\n",
              "      padding: 0 0 0 0;\n",
              "      width: 32px;\n",
              "    }\n",
              "\n",
              "    .colab-df-convert:hover {\n",
              "      background-color: #E2EBFA;\n",
              "      box-shadow: 0px 1px 2px rgba(60, 64, 67, 0.3), 0px 1px 3px 1px rgba(60, 64, 67, 0.15);\n",
              "      fill: #174EA6;\n",
              "    }\n",
              "\n",
              "    [theme=dark] .colab-df-convert {\n",
              "      background-color: #3B4455;\n",
              "      fill: #D2E3FC;\n",
              "    }\n",
              "\n",
              "    [theme=dark] .colab-df-convert:hover {\n",
              "      background-color: #434B5C;\n",
              "      box-shadow: 0px 1px 3px 1px rgba(0, 0, 0, 0.15);\n",
              "      filter: drop-shadow(0px 1px 2px rgba(0, 0, 0, 0.3));\n",
              "      fill: #FFFFFF;\n",
              "    }\n",
              "  </style>\n",
              "\n",
              "      <script>\n",
              "        const buttonEl =\n",
              "          document.querySelector('#df-3b68e5a4-043d-476c-8a45-d4afa6a9124b button.colab-df-convert');\n",
              "        buttonEl.style.display =\n",
              "          google.colab.kernel.accessAllowed ? 'block' : 'none';\n",
              "\n",
              "        async function convertToInteractive(key) {\n",
              "          const element = document.querySelector('#df-3b68e5a4-043d-476c-8a45-d4afa6a9124b');\n",
              "          const dataTable =\n",
              "            await google.colab.kernel.invokeFunction('convertToInteractive',\n",
              "                                                     [key], {});\n",
              "          if (!dataTable) return;\n",
              "\n",
              "          const docLinkHtml = 'Like what you see? Visit the ' +\n",
              "            '<a target=\"_blank\" href=https://colab.research.google.com/notebooks/data_table.ipynb>data table notebook</a>'\n",
              "            + ' to learn more about interactive tables.';\n",
              "          element.innerHTML = '';\n",
              "          dataTable['output_type'] = 'display_data';\n",
              "          await google.colab.output.renderOutput(dataTable, element);\n",
              "          const docLink = document.createElement('div');\n",
              "          docLink.innerHTML = docLinkHtml;\n",
              "          element.appendChild(docLink);\n",
              "        }\n",
              "      </script>\n",
              "    </div>\n",
              "  </div>\n",
              "  "
            ]
          },
          "metadata": {},
          "execution_count": 8
        }
      ]
    },
    {
      "cell_type": "code",
      "source": [
        "df.info()"
      ],
      "metadata": {
        "colab": {
          "base_uri": "https://localhost:8080/"
        },
        "id": "EKZCfK7WbP2Q",
        "outputId": "d672bc36-a772-40eb-8ead-0ff458922c2d"
      },
      "execution_count": 9,
      "outputs": [
        {
          "output_type": "stream",
          "name": "stdout",
          "text": [
            "<class 'pandas.core.frame.DataFrame'>\n",
            "RangeIndex: 3000 entries, 0 to 2999\n",
            "Data columns (total 7 columns):\n",
            " #   Column             Non-Null Count  Dtype \n",
            "---  ------             --------------  ----- \n",
            " 0   budget             3000 non-null   int64 \n",
            " 1   genres             2993 non-null   object\n",
            " 2   original_language  3000 non-null   object\n",
            " 3   original_title     3000 non-null   object\n",
            " 4   cast               2987 non-null   object\n",
            " 5   crew               2984 non-null   object\n",
            " 6   revenue            3000 non-null   int64 \n",
            "dtypes: int64(2), object(5)\n",
            "memory usage: 164.2+ KB\n"
          ]
        }
      ]
    },
    {
      "cell_type": "code",
      "source": [
        "df.loc[0,'crew']"
      ],
      "metadata": {
        "colab": {
          "base_uri": "https://localhost:8080/",
          "height": 123
        },
        "id": "BsIvqvS5bfyJ",
        "outputId": "8b6ea452-7514-406d-9ef5-27d1f26f697b"
      },
      "execution_count": 14,
      "outputs": [
        {
          "output_type": "execute_result",
          "data": {
            "text/plain": [
              "'[{\\'credit_id\\': \\'59ac067c92514107af02c8c8\\', \\'department\\': \\'Directing\\', \\'gender\\': 0, \\'id\\': 1449071, \\'job\\': \\'First Assistant Director\\', \\'name\\': \\'Kelly Cantley\\', \\'profile_path\\': None}, {\\'credit_id\\': \\'52fe4ee7c3a36847f82afad7\\', \\'department\\': \\'Directing\\', \\'gender\\': 2, \\'id\\': 3227, \\'job\\': \\'Director\\', \\'name\\': \\'Steve Pink\\', \\'profile_path\\': \\'/myHOgo8mQSCiCAZNGMRdHVr03jr.jpg\\'}, {\\'credit_id\\': \\'5524ed25c3a3687ded000d88\\', \\'department\\': \\'Writing\\', \\'gender\\': 2, \\'id\\': 347335, \\'job\\': \\'Writer\\', \\'name\\': \\'Josh Heald\\', \\'profile_path\\': \\'/pwXJIenrDMrG7t3zNfLvr8w1RGU.jpg\\'}, {\\'credit_id\\': \\'5524ed2d925141720c001128\\', \\'department\\': \\'Writing\\', \\'gender\\': 2, \\'id\\': 347335, \\'job\\': \\'Characters\\', \\'name\\': \\'Josh Heald\\', \\'profile_path\\': \\'/pwXJIenrDMrG7t3zNfLvr8w1RGU.jpg\\'}, {\\'credit_id\\': \\'5524ed3d92514166c1004a5d\\', \\'department\\': \\'Production\\', \\'gender\\': 2, \\'id\\': 57822, \\'job\\': \\'Producer\\', \\'name\\': \\'Andrew Panay\\', \\'profile_path\\': None}, {\\'credit_id\\': \\'5524ed4bc3a3687df3000dd2\\', \\'department\\': \\'Production\\', \\'gender\\': 0, \\'id\\': 1451395, \\'job\\': \\'Associate Producer\\', \\'name\\': \\'Adam Blum\\', \\'profile_path\\': None}, {\\'credit_id\\': \\'5524ed5a925141720c00112c\\', \\'department\\': \\'Production\\', \\'gender\\': 2, \\'id\\': 52997, \\'job\\': \\'Executive Producer\\', \\'name\\': \\'Rob Corddry\\', \\'profile_path\\': \\'/k2zJL0V1nEZuFT08xUdOd3ucfXz.jpg\\'}, {\\'credit_id\\': \\'5524ed85c3a3687e0e000f56\\', \\'department\\': \\'Production\\', \\'gender\\': 0, \\'id\\': 62807, \\'job\\': \\'Executive Producer\\', \\'name\\': \\'Ben Ormand\\', \\'profile_path\\': None}, {\\'credit_id\\': \\'5524ed9fc3a3687e0e000f59\\', \\'department\\': \\'Sound\\', \\'gender\\': 2, \\'id\\': 23486, \\'job\\': \\'Original Music Composer\\', \\'name\\': \\'Christophe Beck\\', \\'profile_path\\': \\'/2fnJUmCk6IEpVIptpYaUk31epHx.jpg\\'}, {\\'credit_id\\': \\'5524eda6c3a3687e03000d28\\', \\'department\\': \\'Camera\\', \\'gender\\': 2, \\'id\\': 6117, \\'job\\': \\'Director of Photography\\', \\'name\\': \\'Declan Quinn\\', \\'profile_path\\': None}, {\\'credit_id\\': \\'5524edb4925141720c00113d\\', \\'department\\': \\'Editing\\', \\'gender\\': 0, \\'id\\': 1451396, \\'job\\': \\'Editor\\', \\'name\\': \\'Jamie Gross\\', \\'profile_path\\': None}, {\\'credit_id\\': \\'5524edc1925141727600102e\\', \\'department\\': \\'Production\\', \\'gender\\': 0, \\'id\\': 22219, \\'job\\': \\'Casting\\', \\'name\\': \\'Susie Farris\\', \\'profile_path\\': None}, {\\'credit_id\\': \\'5524edd192514171cb008257\\', \\'department\\': \\'Art\\', \\'gender\\': 0, \\'id\\': 1002643, \\'job\\': \\'Production Design\\', \\'name\\': \\'Ryan Berg\\', \\'profile_path\\': None}, {\\'credit_id\\': \\'555ad9be9251411e5b00d485\\', \\'department\\': \\'Production\\', \\'gender\\': 2, \\'id\\': 57431, \\'job\\': \\'Executive Producer\\', \\'name\\': \\'Matt Moore\\', \\'profile_path\\': None}, {\\'credit_id\\': \\'5677e93bc3a36816890087dc\\', \\'department\\': \\'Directing\\', \\'gender\\': 0, \\'id\\': 1551818, \\'job\\': \\'Script Supervisor\\', \\'name\\': \\'Nicole Garcea\\', \\'profile_path\\': None}, {\\'credit_id\\': \\'5677e96a92514179e10093d0\\', \\'department\\': \\'Production\\', \\'gender\\': 0, \\'id\\': 1551819, \\'job\\': \\'Production Coordinator\\', \\'name\\': \\'Jason Salzman\\', \\'profile_path\\': None}, {\\'credit_id\\': \\'5677e98492514179d2008cd9\\', \\'department\\': \\'Costume & Make-Up\\', \\'gender\\': 0, \\'id\\': 1422996, \\'job\\': \\'Costume Design\\', \\'name\\': \\'Carol Cutshall\\', \\'profile_path\\': None}, {\\'credit_id\\': \\'5677e9d5c3a368168e009414\\', \\'department\\': \\'Art\\', \\'gender\\': 2, \\'id\\': 500199, \\'job\\': \\'Set Decoration\\', \\'name\\': \\'Tim Cohn\\', \\'profile_path\\': None}, {\\'credit_id\\': \\'5677f89d9251417845001a61\\', \\'department\\': \\'Costume & Make-Up\\', \\'gender\\': 0, \\'id\\': 1527917, \\'job\\': \\'Hair Department Head\\', \\'name\\': \\'Voni Hinkle\\', \\'profile_path\\': None}, {\\'credit_id\\': \\'5677f8b392514179dd0089fb\\', \\'department\\': \\'Costume & Make-Up\\', \\'gender\\': 0, \\'id\\': 1431554, \\'job\\': \\'Makeup Department Head\\', \\'name\\': \\'Remi Savva\\', \\'profile_path\\': None}, {\\'credit_id\\': \\'5677f8d1c3a3681689008a4b\\', \\'department\\': \\'Art\\', \\'gender\\': 0, \\'id\\': 66495, \\'job\\': \\'Art Direction\\', \\'name\\': \\'Jason Baldwin Stewart\\', \\'profile_path\\': None}, {\\'credit_id\\': \\'5677f8eec3a3681685008dd5\\', \\'department\\': \\'Production\\', \\'gender\\': 0, \\'id\\': 1412466, \\'job\\': \\'Production Supervisor\\', \\'name\\': \\'Korey Budd\\', \\'profile_path\\': None}, {\\'credit_id\\': \\'5677f90a9251417845001a7d\\', \\'department\\': \\'Sound\\', \\'gender\\': 0, \\'id\\': 1401562, \\'job\\': \\'Sound Re-Recording Mixer\\', \\'name\\': \\'Gary C. Bourgeois\\', \\'profile_path\\': None}, {\\'credit_id\\': \\'5677f91e9251417845001a84\\', \\'department\\': \\'Sound\\', \\'gender\\': 0, \\'id\\': 1396794, \\'job\\': \\'Sound Re-Recording Mixer\\', \\'name\\': \\'Gabriel J. Serrano\\', \\'profile_path\\': None}, {\\'credit_id\\': \\'5677f938c3a3681680008dd4\\', \\'department\\': \\'Editing\\', \\'gender\\': 0, \\'id\\': 13168, \\'job\\': \\'Dialogue Editor\\', \\'name\\': \\'Victoria Rose Sampson\\', \\'profile_path\\': None}, {\\'credit_id\\': \\'5677f94e92514179dd008a1f\\', \\'department\\': \\'Sound\\', \\'gender\\': 0, \\'id\\': 1551839, \\'job\\': \\'Production Sound Mixer\\', \\'name\\': \\'Michael B. Koff\\', \\'profile_path\\': None}, {\\'credit_id\\': \\'5677f968c3a368168e009698\\', \\'department\\': \\'Sound\\', \\'gender\\': 0, \\'id\\': 113052, \\'job\\': \\'Sound Effects Editor\\', \\'name\\': \\'Randall Guth\\', \\'profile_path\\': None}, {\\'credit_id\\': \\'5677f98dc3a3681685008e02\\', \\'department\\': \\'Crew\\', \\'gender\\': 2, \\'id\\': 1442535, \\'job\\': \\'Stunt Coordinator\\', \\'name\\': \\'Chuck Picerni Jr.\\', \\'profile_path\\': \\'/yE5QtXUzcrnCzMRctZL8F5g842B.jpg\\'}, {\\'credit_id\\': \\'5677f9a692514179dd008a49\\', \\'department\\': \\'Camera\\', \\'gender\\': 0, \\'id\\': 1437305, \\'job\\': \\'Camera Operator\\', \\'name\\': \\'Michael Applebaum\\', \\'profile_path\\': None}, {\\'credit_id\\': \\'5677f9bd9251417845001aae\\', \\'department\\': \\'Camera\\', \\'gender\\': 0, \\'id\\': 1401765, \\'job\\': \\'Still Photographer\\', \\'name\\': \\'Steve Dietl\\', \\'profile_path\\': None}, {\\'credit_id\\': \\'5677f9e592514179e7008bf7\\', \\'department\\': \\'Lighting\\', \\'gender\\': 0, \\'id\\': 1402721, \\'job\\': \\'Rigging Gaffer\\', \\'name\\': \\'Tarik Naim Alherimi\\', \\'profile_path\\': None}, {\\'credit_id\\': \\'5677f9f4c3a368167c0090ed\\', \\'department\\': \\'Lighting\\', \\'gender\\': 0, \\'id\\': 1402719, \\'job\\': \\'Gaffer\\', \\'name\\': \\'Paul Olinde\\', \\'profile_path\\': None}, {\\'credit_id\\': \\'5677fa21c3a368168e0096ca\\', \\'department\\': \\'Sound\\', \\'gender\\': 0, \\'id\\': 1551840, \\'job\\': \\'Music Supervisor\\', \\'name\\': \\'Steve Griffen\\', \\'profile_path\\': None}, {\\'credit_id\\': \\'5677fa31c3a3681680008e04\\', \\'department\\': \\'Sound\\', \\'gender\\': 0, \\'id\\': 1551841, \\'job\\': \\'Music Editor\\', \\'name\\': \\'Matt Fausak\\', \\'profile_path\\': None}, {\\'credit_id\\': \\'5677fa4392514179dd008a76\\', \\'department\\': \\'Sound\\', \\'gender\\': 0, \\'id\\': 1551840, \\'job\\': \\'Music Editor\\', \\'name\\': \\'Steve Griffen\\', \\'profile_path\\': None}, {\\'credit_id\\': \\'5677fa609251417845001acf\\', \\'department\\': \\'Costume & Make-Up\\', \\'gender\\': 0, \\'id\\': 1403416, \\'job\\': \\'Costume Supervisor\\', \\'name\\': \\'Shonta T. McCray\\', \\'profile_path\\': None}, {\\'credit_id\\': \\'5677fa8492514179d2008fb3\\', \\'department\\': \\'Camera\\', \\'gender\\': 0, \\'id\\': 1425831, \\'job\\': \\'Steadicam Operator\\', \\'name\\': \\'Mark Karavite\\', \\'profile_path\\': None}, {\\'credit_id\\': \\'5677fab2c3a3681689008ac3\\', \\'department\\': \\'Camera\\', \\'gender\\': 0, \\'id\\': 1551842, \\'job\\': \\'First Assistant Camera\\', \\'name\\': \\'Joe Waistell\\', \\'profile_path\\': None}, {\\'credit_id\\': \\'5677faecc3a368168e0096fe\\', \\'department\\': \\'Sound\\', \\'gender\\': 0, \\'id\\': 58362, \\'job\\': \\'Supervising Sound Editor\\', \\'name\\': \\'Michael Hilkene\\', \\'profile_path\\': None}, {\\'credit_id\\': \\'59ac0368c3a3682c0a02c484\\', \\'department\\': \\'Crew\\', \\'gender\\': 0, \\'id\\': 1881584, \\'job\\': \\'Additional Writing\\', \\'name\\': \\'John Karnay\\', \\'profile_path\\': None}, {\\'credit_id\\': \\'59ac0411c3a3682bf0028966\\', \\'department\\': \\'Costume & Make-Up\\', \\'gender\\': 0, \\'id\\': 1431552, \\'job\\': \\'Hairstylist\\', \\'name\\': \\'Daina Daigle\\', \\'profile_path\\': None}, {\\'credit_id\\': \\'59ac0504925141072302b8fb\\', \\'department\\': \\'Costume & Make-Up\\', \\'gender\\': 0, \\'id\\': 1712001, \\'job\\': \\'Makeup Artist\\', \\'name\\': \\'Allison Gordin\\', \\'profile_path\\': None}, {\\'credit_id\\': \\'59ac0570c3a3682bf0028aac\\', \\'department\\': \\'Costume & Make-Up\\', \\'gender\\': 0, \\'id\\': 578725, \\'job\\': \\'Makeup Artist\\', \\'name\\': \\'Darryl Lucas\\', \\'profile_path\\': None}, {\\'credit_id\\': \\'59ac05a4925141077e02c97e\\', \\'department\\': \\'Costume & Make-Up\\', \\'gender\\': 0, \\'id\\': 1463274, \\'job\\': \\'Makeup Artist\\', \\'name\\': \\'Annabelle MacNeal\\', \\'profile_path\\': None}, {\\'credit_id\\': \\'59ac05c6925141076502d106\\', \\'department\\': \\'Costume & Make-Up\\', \\'gender\\': 0, \\'id\\': 1881586, \\'job\\': \\'Makeup Artist\\', \\'name\\': \\'Marina Savva\\', \\'profile_path\\': None}, {\\'credit_id\\': \\'59ac0615c3a3682c480296aa\\', \\'department\\': \\'Costume & Make-Up\\', \\'gender\\': 0, \\'id\\': 1406267, \\'job\\': \\'Hairstylist\\', \\'name\\': \\'Carl G. Variste\\', \\'profile_path\\': None}, {\\'credit_id\\': \\'59ac06ba925141076502d1fa\\', \\'department\\': \\'Directing\\', \\'gender\\': 0, \\'id\\': 1798593, \\'job\\': \\'First Assistant Director\\', \\'name\\': \\'Josh King\\', \\'profile_path\\': None}, {\\'credit_id\\': \\'59ac06f1c3a3682c2202aca0\\', \\'department\\': \\'Art\\', \\'gender\\': 0, \\'id\\': 1415083, \\'job\\': \\'Greensman\\', \\'name\\': \\'Scott C. Bivona\\', \\'profile_path\\': None}, {\\'credit_id\\': \\'59ac072c925141076502d260\\', \\'department\\': \\'Art\\', \\'gender\\': 0, \\'id\\': 1881587, \\'job\\': \\'Title Designer\\', \\'name\\': \\'Eunha Choi\\', \\'profile_path\\': None}, {\\'credit_id\\': \\'59ac077c925141077e02cb62\\', \\'department\\': \\'Art\\', \\'gender\\': 0, \\'id\\': 1585302, \\'job\\': \\'Construction Coordinator\\', \\'name\\': \\'Daniel Coe\\', \\'profile_path\\': None}, {\\'credit_id\\': \\'59ac07e0925141078a02d842\\', \\'department\\': \\'Art\\', \\'gender\\': 0, \\'id\\': 1495523, \\'job\\': \\'Set Designer\\', \\'name\\': \\'Spencer Davison\\', \\'profile_path\\': None}, {\\'credit_id\\': \\'59ac0862925141072f02cf6f\\', \\'department\\': \\'Art\\', \\'gender\\': 0, \\'id\\': 1881589, \\'job\\': \\'Painter\\', \\'name\\': \\'Sonia L. Garcia\\', \\'profile_path\\': None}, {\\'credit_id\\': \\'59ac08e0c3a3682bf0028e51\\', \\'department\\': \\'Art\\', \\'gender\\': 0, \\'id\\': 1424896, \\'job\\': \\'Art Department Coordinator\\', \\'name\\': \\'Caleb Guillotte\\', \\'profile_path\\': None}, {\\'credit_id\\': \\'59ac0920c3a3682c2202af36\\', \\'department\\': \\'Art\\', \\'gender\\': 0, \\'id\\': 1393375, \\'job\\': \\'Leadman\\', \\'name\\': \"Pat A. O\\'Connor\", \\'profile_path\\': None}, {\\'credit_id\\': \\'59ac095592514107af02cc39\\', \\'department\\': \\'Art\\', \\'gender\\': 0, \\'id\\': 1881592, \\'job\\': \\'Set Designer\\', \\'name\\': \\'Brendan Turrill\\', \\'profile_path\\': None}, {\\'credit_id\\': \\'59ac0989925141072302bdfa\\', \\'department\\': \\'Art\\', \\'gender\\': 2, \\'id\\': 76497, \\'job\\': \\'Property Master\\', \\'name\\': \\'Brook Yeaton\\', \\'profile_path\\': None}, {\\'credit_id\\': \\'59ac0a2cc3a3682c9c02add1\\', \\'department\\': \\'Sound\\', \\'gender\\': 0, \\'id\\': 1881596, \\'job\\': \\'Boom Operator\\', \\'name\\': \\'Matthew Armstrong\\', \\'profile_path\\': None}, {\\'credit_id\\': \\'59ac0aa8925141072f02d282\\', \\'department\\': \\'Visual Effects\\', \\'gender\\': 2, \\'id\\': 1558086, \\'job\\': \\'Special Effects Supervisor\\', \\'name\\': \\'Matt Kutcher\\', \\'profile_path\\': None}, {\\'credit_id\\': \\'59ac0b2ac3a3682c2202b192\\', \\'department\\': \\'Crew\\', \\'gender\\': 2, \\'id\\': 1558087, \\'job\\': \\'Special Effects Coordinator\\', \\'name\\': \\'Eric Roberts\\', \\'profile_path\\': None}, {\\'credit_id\\': \\'59ac0b7ac3a3682c2202b1fb\\', \\'department\\': \\'Visual Effects\\', \\'gender\\': 0, \\'id\\': 1392098, \\'job\\': \\'Visual Effects Supervisor\\', \\'name\\': \\'Rocco Passionino\\', \\'profile_path\\': None}, {\\'credit_id\\': \\'59ac0bbe925141077e02d0c4\\', \\'department\\': \\'Visual Effects\\', \\'gender\\': 0, \\'id\\': 1558716, \\'job\\': \\'Visual Effects Coordinator\\', \\'name\\': \\'Joseph Payo\\', \\'profile_path\\': None}, {\\'credit_id\\': \\'59ac0bf2c3a3682cc802cefa\\', \\'department\\': \\'Visual Effects\\', \\'gender\\': 0, \\'id\\': 1408784, \\'job\\': \\'Visual Effects Producer\\', \\'name\\': \\'Chris Roff\\', \\'profile_path\\': None}, {\\'credit_id\\': \\'59ac0c51c3a3682c48029d99\\', \\'department\\': \\'Lighting\\', \\'gender\\': 0, \\'id\\': 1881600, \\'job\\': \\'Best Boy Electric\\', \\'name\\': \\'Ulyan Atamanyuk\\', \\'profile_path\\': None}, {\\'credit_id\\': \\'59ac0cbac3a3682c0a02cff6\\', \\'department\\': \\'Camera\\', \\'gender\\': 0, \\'id\\': 1881602, \\'job\\': \\'Key Grip\\', \\'name\\': \\'Chris Ekstrom\\', \\'profile_path\\': None}, {\\'credit_id\\': \\'59ac0d54925141072f02d5e6\\', \\'department\\': \\'Lighting\\', \\'gender\\': 0, \\'id\\': 1484984, \\'job\\': \\'Best Boy Electric\\', \\'name\\': \\'Brad Garris\\', \\'profile_path\\': None}, {\\'credit_id\\': \\'59ac0db0925141078a02df86\\', \\'department\\': \\'Camera\\', \\'gender\\': 0, \\'id\\': 1881603, \\'job\\': \\'Dolly Grip\\', \\'name\\': \\'Kendell Joseph\\', \\'profile_path\\': None}, {\\'credit_id\\': \\'59ac0e5a925141077e02d39f\\', \\'department\\': \\'Camera\\', \\'gender\\': 0, \\'id\\': 1549179, \\'job\\': \\'Dolly Grip\\', \\'name\\': \\'Spencer Wilcox\\', \\'profile_path\\': None}, {\\'credit_id\\': \\'59ac0e9f925141079d02bee6\\', \\'department\\': \\'Costume & Make-Up\\', \\'gender\\': 0, \\'id\\': 1552626, \\'job\\': \\'Key Costumer\\', \\'name\\': \\'Sarah P. Koeppe\\', \\'profile_path\\': None}, {\\'credit_id\\': \\'59ac0ec1c3a3682bf0029524\\', \\'department\\': \\'Costume & Make-Up\\', \\'gender\\': 0, \\'id\\': 1881605, \\'job\\': \\'Seamstress\\', \\'name\\': \\'Catherine Rodi\\', \\'profile_path\\': None}, {\\'credit_id\\': \\'59ac0eef925141070702c7ff\\', \\'department\\': \\'Costume & Make-Up\\', \\'gender\\': 0, \\'id\\': 1463801, \\'job\\': \\'Seamstress\\', \\'name\\': \\'Giselle Spence\\', \\'profile_path\\': None}, {\\'credit_id\\': \\'59ac0f5dc3a3682c4802a0f5\\', \\'department\\': \\'Production\\', \\'gender\\': 0, \\'id\\': 1400837, \\'job\\': \\'Location Manager\\', \\'name\\': \\'John A. Johnston\\', \\'profile_path\\': None}, {\\'credit_id\\': \\'59ac0ff2c3a3682c4802a196\\', \\'department\\': \\'Crew\\', \\'gender\\': 0, \\'id\\': 1844322, \\'job\\': \\'Production Controller\\', \\'name\\': \\'Gail Marks\\', \\'profile_path\\': None}]'"
            ],
            "application/vnd.google.colaboratory.intrinsic+json": {
              "type": "string"
            }
          },
          "metadata": {},
          "execution_count": 14
        }
      ]
    },
    {
      "cell_type": "code",
      "source": [
        "def convert(string):\n",
        "  return eval(string)"
      ],
      "metadata": {
        "id": "TD6XDeXZcKFu"
      },
      "execution_count": 15,
      "outputs": []
    },
    {
      "cell_type": "code",
      "source": [
        "df.loc[~df['crew'].isna(),'crew'] = df.loc[~df['crew'].isna(),'crew'].apply(convert)\n",
        "df.loc[~df['cast'].isna(),'cast'] = df.loc[~df['cast'].isna(),'cast'].apply(convert)\n",
        "df.loc[~df['genres'].isna(),'genres'] = df.loc[~df['genres'].isna(),'genres'].apply(convert)"
      ],
      "metadata": {
        "id": "NgolWUDhcXVH"
      },
      "execution_count": 21,
      "outputs": []
    },
    {
      "cell_type": "code",
      "source": [
        "df.loc[0,'genres']"
      ],
      "metadata": {
        "colab": {
          "base_uri": "https://localhost:8080/"
        },
        "id": "nhKIlJWxeE9f",
        "outputId": "77865739-8b9b-4d18-d504-2db48cc8b62e"
      },
      "execution_count": 25,
      "outputs": [
        {
          "output_type": "execute_result",
          "data": {
            "text/plain": [
              "[{'id': 35, 'name': 'Comedy'}]"
            ]
          },
          "metadata": {},
          "execution_count": 25
        }
      ]
    },
    {
      "cell_type": "markdown",
      "source": [
        "1. ### <b> Which movie made the highest profit? Who were its producer and director? Identify the actors in that film.</b>"
      ],
      "metadata": {
        "id": "7_o3PuLEfB7h"
      }
    },
    {
      "cell_type": "code",
      "source": [
        "df.describe()"
      ],
      "metadata": {
        "colab": {
          "base_uri": "https://localhost:8080/",
          "height": 300
        },
        "id": "Ew-6s_CGeWth",
        "outputId": "b49f5a20-a439-406d-9099-ee8b65fd5c1a"
      },
      "execution_count": 26,
      "outputs": [
        {
          "output_type": "execute_result",
          "data": {
            "text/plain": [
              "             budget       revenue\n",
              "count  3.000000e+03  3.000000e+03\n",
              "mean   2.253133e+07  6.672585e+07\n",
              "std    3.702609e+07  1.375323e+08\n",
              "min    0.000000e+00  1.000000e+00\n",
              "25%    0.000000e+00  2.379808e+06\n",
              "50%    8.000000e+06  1.680707e+07\n",
              "75%    2.900000e+07  6.891920e+07\n",
              "max    3.800000e+08  1.519558e+09"
            ],
            "text/html": [
              "\n",
              "  <div id=\"df-f8e8c35b-239f-4ba0-a6ed-5154901bbd67\">\n",
              "    <div class=\"colab-df-container\">\n",
              "      <div>\n",
              "<style scoped>\n",
              "    .dataframe tbody tr th:only-of-type {\n",
              "        vertical-align: middle;\n",
              "    }\n",
              "\n",
              "    .dataframe tbody tr th {\n",
              "        vertical-align: top;\n",
              "    }\n",
              "\n",
              "    .dataframe thead th {\n",
              "        text-align: right;\n",
              "    }\n",
              "</style>\n",
              "<table border=\"1\" class=\"dataframe\">\n",
              "  <thead>\n",
              "    <tr style=\"text-align: right;\">\n",
              "      <th></th>\n",
              "      <th>budget</th>\n",
              "      <th>revenue</th>\n",
              "    </tr>\n",
              "  </thead>\n",
              "  <tbody>\n",
              "    <tr>\n",
              "      <th>count</th>\n",
              "      <td>3.000000e+03</td>\n",
              "      <td>3.000000e+03</td>\n",
              "    </tr>\n",
              "    <tr>\n",
              "      <th>mean</th>\n",
              "      <td>2.253133e+07</td>\n",
              "      <td>6.672585e+07</td>\n",
              "    </tr>\n",
              "    <tr>\n",
              "      <th>std</th>\n",
              "      <td>3.702609e+07</td>\n",
              "      <td>1.375323e+08</td>\n",
              "    </tr>\n",
              "    <tr>\n",
              "      <th>min</th>\n",
              "      <td>0.000000e+00</td>\n",
              "      <td>1.000000e+00</td>\n",
              "    </tr>\n",
              "    <tr>\n",
              "      <th>25%</th>\n",
              "      <td>0.000000e+00</td>\n",
              "      <td>2.379808e+06</td>\n",
              "    </tr>\n",
              "    <tr>\n",
              "      <th>50%</th>\n",
              "      <td>8.000000e+06</td>\n",
              "      <td>1.680707e+07</td>\n",
              "    </tr>\n",
              "    <tr>\n",
              "      <th>75%</th>\n",
              "      <td>2.900000e+07</td>\n",
              "      <td>6.891920e+07</td>\n",
              "    </tr>\n",
              "    <tr>\n",
              "      <th>max</th>\n",
              "      <td>3.800000e+08</td>\n",
              "      <td>1.519558e+09</td>\n",
              "    </tr>\n",
              "  </tbody>\n",
              "</table>\n",
              "</div>\n",
              "      <button class=\"colab-df-convert\" onclick=\"convertToInteractive('df-f8e8c35b-239f-4ba0-a6ed-5154901bbd67')\"\n",
              "              title=\"Convert this dataframe to an interactive table.\"\n",
              "              style=\"display:none;\">\n",
              "        \n",
              "  <svg xmlns=\"http://www.w3.org/2000/svg\" height=\"24px\"viewBox=\"0 0 24 24\"\n",
              "       width=\"24px\">\n",
              "    <path d=\"M0 0h24v24H0V0z\" fill=\"none\"/>\n",
              "    <path d=\"M18.56 5.44l.94 2.06.94-2.06 2.06-.94-2.06-.94-.94-2.06-.94 2.06-2.06.94zm-11 1L8.5 8.5l.94-2.06 2.06-.94-2.06-.94L8.5 2.5l-.94 2.06-2.06.94zm10 10l.94 2.06.94-2.06 2.06-.94-2.06-.94-.94-2.06-.94 2.06-2.06.94z\"/><path d=\"M17.41 7.96l-1.37-1.37c-.4-.4-.92-.59-1.43-.59-.52 0-1.04.2-1.43.59L10.3 9.45l-7.72 7.72c-.78.78-.78 2.05 0 2.83L4 21.41c.39.39.9.59 1.41.59.51 0 1.02-.2 1.41-.59l7.78-7.78 2.81-2.81c.8-.78.8-2.07 0-2.86zM5.41 20L4 18.59l7.72-7.72 1.47 1.35L5.41 20z\"/>\n",
              "  </svg>\n",
              "      </button>\n",
              "      \n",
              "  <style>\n",
              "    .colab-df-container {\n",
              "      display:flex;\n",
              "      flex-wrap:wrap;\n",
              "      gap: 12px;\n",
              "    }\n",
              "\n",
              "    .colab-df-convert {\n",
              "      background-color: #E8F0FE;\n",
              "      border: none;\n",
              "      border-radius: 50%;\n",
              "      cursor: pointer;\n",
              "      display: none;\n",
              "      fill: #1967D2;\n",
              "      height: 32px;\n",
              "      padding: 0 0 0 0;\n",
              "      width: 32px;\n",
              "    }\n",
              "\n",
              "    .colab-df-convert:hover {\n",
              "      background-color: #E2EBFA;\n",
              "      box-shadow: 0px 1px 2px rgba(60, 64, 67, 0.3), 0px 1px 3px 1px rgba(60, 64, 67, 0.15);\n",
              "      fill: #174EA6;\n",
              "    }\n",
              "\n",
              "    [theme=dark] .colab-df-convert {\n",
              "      background-color: #3B4455;\n",
              "      fill: #D2E3FC;\n",
              "    }\n",
              "\n",
              "    [theme=dark] .colab-df-convert:hover {\n",
              "      background-color: #434B5C;\n",
              "      box-shadow: 0px 1px 3px 1px rgba(0, 0, 0, 0.15);\n",
              "      filter: drop-shadow(0px 1px 2px rgba(0, 0, 0, 0.3));\n",
              "      fill: #FFFFFF;\n",
              "    }\n",
              "  </style>\n",
              "\n",
              "      <script>\n",
              "        const buttonEl =\n",
              "          document.querySelector('#df-f8e8c35b-239f-4ba0-a6ed-5154901bbd67 button.colab-df-convert');\n",
              "        buttonEl.style.display =\n",
              "          google.colab.kernel.accessAllowed ? 'block' : 'none';\n",
              "\n",
              "        async function convertToInteractive(key) {\n",
              "          const element = document.querySelector('#df-f8e8c35b-239f-4ba0-a6ed-5154901bbd67');\n",
              "          const dataTable =\n",
              "            await google.colab.kernel.invokeFunction('convertToInteractive',\n",
              "                                                     [key], {});\n",
              "          if (!dataTable) return;\n",
              "\n",
              "          const docLinkHtml = 'Like what you see? Visit the ' +\n",
              "            '<a target=\"_blank\" href=https://colab.research.google.com/notebooks/data_table.ipynb>data table notebook</a>'\n",
              "            + ' to learn more about interactive tables.';\n",
              "          element.innerHTML = '';\n",
              "          dataTable['output_type'] = 'display_data';\n",
              "          await google.colab.output.renderOutput(dataTable, element);\n",
              "          const docLink = document.createElement('div');\n",
              "          docLink.innerHTML = docLinkHtml;\n",
              "          element.appendChild(docLink);\n",
              "        }\n",
              "      </script>\n",
              "    </div>\n",
              "  </div>\n",
              "  "
            ]
          },
          "metadata": {},
          "execution_count": 26
        }
      ]
    },
    {
      "cell_type": "code",
      "source": [
        "df[df['budget']==0].shape"
      ],
      "metadata": {
        "colab": {
          "base_uri": "https://localhost:8080/"
        },
        "id": "4UsJH7EGfR3a",
        "outputId": "662e7365-2ede-4efe-8da5-ed5f709b6c46"
      },
      "execution_count": 29,
      "outputs": [
        {
          "output_type": "execute_result",
          "data": {
            "text/plain": [
              "(812, 7)"
            ]
          },
          "metadata": {},
          "execution_count": 29
        }
      ]
    },
    {
      "cell_type": "code",
      "source": [
        "df.loc[df['budget']<1000,'budget'] = df['budget'].median()"
      ],
      "metadata": {
        "id": "QRmiV47Xf1qt"
      },
      "execution_count": 30,
      "outputs": []
    },
    {
      "cell_type": "code",
      "source": [
        "df.describe()"
      ],
      "metadata": {
        "colab": {
          "base_uri": "https://localhost:8080/",
          "height": 300
        },
        "id": "3rAfoNw6hMon",
        "outputId": "2c05fd22-0ad3-483e-da67-fef4b9444d72"
      },
      "execution_count": 31,
      "outputs": [
        {
          "output_type": "execute_result",
          "data": {
            "text/plain": [
              "             budget       revenue\n",
              "count  3.000000e+03  3.000000e+03\n",
              "mean   2.474467e+07  6.672585e+07\n",
              "std    3.583254e+07  1.375323e+08\n",
              "min    2.500000e+03  1.000000e+00\n",
              "25%    8.000000e+06  2.379808e+06\n",
              "50%    8.000000e+06  1.680707e+07\n",
              "75%    2.900000e+07  6.891920e+07\n",
              "max    3.800000e+08  1.519558e+09"
            ],
            "text/html": [
              "\n",
              "  <div id=\"df-7054e5b2-8194-4f99-be4d-37e8ef4ed412\">\n",
              "    <div class=\"colab-df-container\">\n",
              "      <div>\n",
              "<style scoped>\n",
              "    .dataframe tbody tr th:only-of-type {\n",
              "        vertical-align: middle;\n",
              "    }\n",
              "\n",
              "    .dataframe tbody tr th {\n",
              "        vertical-align: top;\n",
              "    }\n",
              "\n",
              "    .dataframe thead th {\n",
              "        text-align: right;\n",
              "    }\n",
              "</style>\n",
              "<table border=\"1\" class=\"dataframe\">\n",
              "  <thead>\n",
              "    <tr style=\"text-align: right;\">\n",
              "      <th></th>\n",
              "      <th>budget</th>\n",
              "      <th>revenue</th>\n",
              "    </tr>\n",
              "  </thead>\n",
              "  <tbody>\n",
              "    <tr>\n",
              "      <th>count</th>\n",
              "      <td>3.000000e+03</td>\n",
              "      <td>3.000000e+03</td>\n",
              "    </tr>\n",
              "    <tr>\n",
              "      <th>mean</th>\n",
              "      <td>2.474467e+07</td>\n",
              "      <td>6.672585e+07</td>\n",
              "    </tr>\n",
              "    <tr>\n",
              "      <th>std</th>\n",
              "      <td>3.583254e+07</td>\n",
              "      <td>1.375323e+08</td>\n",
              "    </tr>\n",
              "    <tr>\n",
              "      <th>min</th>\n",
              "      <td>2.500000e+03</td>\n",
              "      <td>1.000000e+00</td>\n",
              "    </tr>\n",
              "    <tr>\n",
              "      <th>25%</th>\n",
              "      <td>8.000000e+06</td>\n",
              "      <td>2.379808e+06</td>\n",
              "    </tr>\n",
              "    <tr>\n",
              "      <th>50%</th>\n",
              "      <td>8.000000e+06</td>\n",
              "      <td>1.680707e+07</td>\n",
              "    </tr>\n",
              "    <tr>\n",
              "      <th>75%</th>\n",
              "      <td>2.900000e+07</td>\n",
              "      <td>6.891920e+07</td>\n",
              "    </tr>\n",
              "    <tr>\n",
              "      <th>max</th>\n",
              "      <td>3.800000e+08</td>\n",
              "      <td>1.519558e+09</td>\n",
              "    </tr>\n",
              "  </tbody>\n",
              "</table>\n",
              "</div>\n",
              "      <button class=\"colab-df-convert\" onclick=\"convertToInteractive('df-7054e5b2-8194-4f99-be4d-37e8ef4ed412')\"\n",
              "              title=\"Convert this dataframe to an interactive table.\"\n",
              "              style=\"display:none;\">\n",
              "        \n",
              "  <svg xmlns=\"http://www.w3.org/2000/svg\" height=\"24px\"viewBox=\"0 0 24 24\"\n",
              "       width=\"24px\">\n",
              "    <path d=\"M0 0h24v24H0V0z\" fill=\"none\"/>\n",
              "    <path d=\"M18.56 5.44l.94 2.06.94-2.06 2.06-.94-2.06-.94-.94-2.06-.94 2.06-2.06.94zm-11 1L8.5 8.5l.94-2.06 2.06-.94-2.06-.94L8.5 2.5l-.94 2.06-2.06.94zm10 10l.94 2.06.94-2.06 2.06-.94-2.06-.94-.94-2.06-.94 2.06-2.06.94z\"/><path d=\"M17.41 7.96l-1.37-1.37c-.4-.4-.92-.59-1.43-.59-.52 0-1.04.2-1.43.59L10.3 9.45l-7.72 7.72c-.78.78-.78 2.05 0 2.83L4 21.41c.39.39.9.59 1.41.59.51 0 1.02-.2 1.41-.59l7.78-7.78 2.81-2.81c.8-.78.8-2.07 0-2.86zM5.41 20L4 18.59l7.72-7.72 1.47 1.35L5.41 20z\"/>\n",
              "  </svg>\n",
              "      </button>\n",
              "      \n",
              "  <style>\n",
              "    .colab-df-container {\n",
              "      display:flex;\n",
              "      flex-wrap:wrap;\n",
              "      gap: 12px;\n",
              "    }\n",
              "\n",
              "    .colab-df-convert {\n",
              "      background-color: #E8F0FE;\n",
              "      border: none;\n",
              "      border-radius: 50%;\n",
              "      cursor: pointer;\n",
              "      display: none;\n",
              "      fill: #1967D2;\n",
              "      height: 32px;\n",
              "      padding: 0 0 0 0;\n",
              "      width: 32px;\n",
              "    }\n",
              "\n",
              "    .colab-df-convert:hover {\n",
              "      background-color: #E2EBFA;\n",
              "      box-shadow: 0px 1px 2px rgba(60, 64, 67, 0.3), 0px 1px 3px 1px rgba(60, 64, 67, 0.15);\n",
              "      fill: #174EA6;\n",
              "    }\n",
              "\n",
              "    [theme=dark] .colab-df-convert {\n",
              "      background-color: #3B4455;\n",
              "      fill: #D2E3FC;\n",
              "    }\n",
              "\n",
              "    [theme=dark] .colab-df-convert:hover {\n",
              "      background-color: #434B5C;\n",
              "      box-shadow: 0px 1px 3px 1px rgba(0, 0, 0, 0.15);\n",
              "      filter: drop-shadow(0px 1px 2px rgba(0, 0, 0, 0.3));\n",
              "      fill: #FFFFFF;\n",
              "    }\n",
              "  </style>\n",
              "\n",
              "      <script>\n",
              "        const buttonEl =\n",
              "          document.querySelector('#df-7054e5b2-8194-4f99-be4d-37e8ef4ed412 button.colab-df-convert');\n",
              "        buttonEl.style.display =\n",
              "          google.colab.kernel.accessAllowed ? 'block' : 'none';\n",
              "\n",
              "        async function convertToInteractive(key) {\n",
              "          const element = document.querySelector('#df-7054e5b2-8194-4f99-be4d-37e8ef4ed412');\n",
              "          const dataTable =\n",
              "            await google.colab.kernel.invokeFunction('convertToInteractive',\n",
              "                                                     [key], {});\n",
              "          if (!dataTable) return;\n",
              "\n",
              "          const docLinkHtml = 'Like what you see? Visit the ' +\n",
              "            '<a target=\"_blank\" href=https://colab.research.google.com/notebooks/data_table.ipynb>data table notebook</a>'\n",
              "            + ' to learn more about interactive tables.';\n",
              "          element.innerHTML = '';\n",
              "          dataTable['output_type'] = 'display_data';\n",
              "          await google.colab.output.renderOutput(dataTable, element);\n",
              "          const docLink = document.createElement('div');\n",
              "          docLink.innerHTML = docLinkHtml;\n",
              "          element.appendChild(docLink);\n",
              "        }\n",
              "      </script>\n",
              "    </div>\n",
              "  </div>\n",
              "  "
            ]
          },
          "metadata": {},
          "execution_count": 31
        }
      ]
    },
    {
      "cell_type": "code",
      "source": [
        "df['profit'] = df.revenue - df.budget\n"
      ],
      "metadata": {
        "id": "kHWuijYnhOtV"
      },
      "execution_count": 34,
      "outputs": []
    },
    {
      "cell_type": "code",
      "source": [
        "df.info()"
      ],
      "metadata": {
        "colab": {
          "base_uri": "https://localhost:8080/"
        },
        "id": "zsRAblGrhYbb",
        "outputId": "e48d13a3-e8ba-4bf5-b3eb-f6161dac3ba0"
      },
      "execution_count": 35,
      "outputs": [
        {
          "output_type": "stream",
          "name": "stdout",
          "text": [
            "<class 'pandas.core.frame.DataFrame'>\n",
            "RangeIndex: 3000 entries, 0 to 2999\n",
            "Data columns (total 8 columns):\n",
            " #   Column             Non-Null Count  Dtype \n",
            "---  ------             --------------  ----- \n",
            " 0   budget             3000 non-null   int64 \n",
            " 1   genres             2993 non-null   object\n",
            " 2   original_language  3000 non-null   object\n",
            " 3   original_title     3000 non-null   object\n",
            " 4   cast               2987 non-null   object\n",
            " 5   crew               2984 non-null   object\n",
            " 6   revenue            3000 non-null   int64 \n",
            " 7   profit             3000 non-null   int64 \n",
            "dtypes: int64(3), object(5)\n",
            "memory usage: 187.6+ KB\n"
          ]
        }
      ]
    },
    {
      "cell_type": "code",
      "source": [
        "df['profit'].max()"
      ],
      "metadata": {
        "colab": {
          "base_uri": "https://localhost:8080/"
        },
        "id": "5_OyVZdEhin-",
        "outputId": "b720dc39-aef4-4d38-a8b1-e6de409e6c09"
      },
      "execution_count": 37,
      "outputs": [
        {
          "output_type": "execute_result",
          "data": {
            "text/plain": [
              "1316249360"
            ]
          },
          "metadata": {},
          "execution_count": 37
        }
      ]
    },
    {
      "cell_type": "code",
      "source": [
        "df['profit'].idxmax()"
      ],
      "metadata": {
        "colab": {
          "base_uri": "https://localhost:8080/"
        },
        "id": "mBDcnieChyEp",
        "outputId": "82b368bc-f4c6-4097-c36a-2b6bf78636cb"
      },
      "execution_count": 38,
      "outputs": [
        {
          "output_type": "execute_result",
          "data": {
            "text/plain": [
              "1761"
            ]
          },
          "metadata": {},
          "execution_count": 38
        }
      ]
    },
    {
      "cell_type": "code",
      "source": [
        "df.loc[df['profit'].idxmax()]['crew'][0]['name']"
      ],
      "metadata": {
        "colab": {
          "base_uri": "https://localhost:8080/",
          "height": 36
        },
        "id": "pKqNMzfTh2OB",
        "outputId": "9bca571d-b3e0-401d-a344-14aa92b0f21f"
      },
      "execution_count": 46,
      "outputs": [
        {
          "output_type": "execute_result",
          "data": {
            "text/plain": [
              "'Vin Diesel'"
            ],
            "application/vnd.google.colaboratory.intrinsic+json": {
              "type": "string"
            }
          },
          "metadata": {},
          "execution_count": 46
        }
      ]
    },
    {
      "cell_type": "code",
      "source": [
        "max_profit_movie = df.loc[df['profit'].idxmax()]"
      ],
      "metadata": {
        "id": "7viklXAhik1x"
      },
      "execution_count": 47,
      "outputs": []
    },
    {
      "cell_type": "code",
      "source": [
        "# here is movie which made the highest profit\n",
        "max_profit_movie['original_title']"
      ],
      "metadata": {
        "colab": {
          "base_uri": "https://localhost:8080/",
          "height": 36
        },
        "id": "ecAWmuAeipC1",
        "outputId": "a5b23809-2d6a-4f88-84a9-e47ece1b8609"
      },
      "execution_count": 48,
      "outputs": [
        {
          "output_type": "execute_result",
          "data": {
            "text/plain": [
              "'Furious 7'"
            ],
            "application/vnd.google.colaboratory.intrinsic+json": {
              "type": "string"
            }
          },
          "metadata": {},
          "execution_count": 48
        }
      ]
    },
    {
      "cell_type": "code",
      "source": [
        "producer  = []\n",
        "director = []\n",
        "\n",
        "for elen in max_profit_movie['crew']:\n",
        "  if elen['job'] == 'Producer':\n",
        "    print(f\"Producer: {elen['name']}\")\n",
        "  if elen['job'] == 'Director':\n",
        "    print(f\"Director: {elen['name']}\")"
      ],
      "metadata": {
        "colab": {
          "base_uri": "https://localhost:8080/"
        },
        "id": "igU9AcFSjHHn",
        "outputId": "585abf88-425a-4036-ab99-c082123884a8"
      },
      "execution_count": 54,
      "outputs": [
        {
          "output_type": "stream",
          "name": "stdout",
          "text": [
            "Producer: Vin Diesel\n",
            "Producer: Neal H. Moritz\n",
            "Director: James Wan\n",
            "Producer: Michael Fottrell\n",
            "Producer: Brandon Birtell\n"
          ]
        }
      ]
    },
    {
      "cell_type": "code",
      "source": [
        "max_profit_movie['cast'][0]['character']"
      ],
      "metadata": {
        "colab": {
          "base_uri": "https://localhost:8080/",
          "height": 36
        },
        "id": "nKKidaMQkm0i",
        "outputId": "801251e1-586f-455e-aed4-6e1cdf7035c0"
      },
      "execution_count": 57,
      "outputs": [
        {
          "output_type": "execute_result",
          "data": {
            "text/plain": [
              "'Dominic Toretto'"
            ],
            "application/vnd.google.colaboratory.intrinsic+json": {
              "type": "string"
            }
          },
          "metadata": {},
          "execution_count": 57
        }
      ]
    },
    {
      "cell_type": "code",
      "source": [
        "# all actors name which they are in max profit movie\n",
        "for me in max_profit_movie['cast']:\n",
        "  print(me['name'])"
      ],
      "metadata": {
        "colab": {
          "base_uri": "https://localhost:8080/"
        },
        "id": "rOmOHgLNk5IU",
        "outputId": "16ac8c19-5d56-4b76-a5e9-93a71e145704"
      },
      "execution_count": 63,
      "outputs": [
        {
          "output_type": "stream",
          "name": "stdout",
          "text": [
            "Vin Diesel\n",
            "Paul Walker\n",
            "Dwayne Johnson\n",
            "Michelle Rodriguez\n",
            "Tyrese Gibson\n",
            "Ludacris\n",
            "Jordana Brewster\n",
            "Djimon Hounsou\n",
            "Tony Jaa\n",
            "Ronda Rousey\n",
            "Nathalie Emmanuel\n",
            "Kurt Russell\n",
            "Jason Statham\n",
            "Sung Kang\n",
            "Gal Gadot\n",
            "Lucas Black\n",
            "Elsa Pataky\n",
            "Noel Gugliemi\n",
            "John Brotherton\n",
            "Luke Evans\n",
            "Ali Fazal\n",
            "Miller Kimsey\n",
            "Charlie Kimsey\n",
            "Eden Estrella\n",
            "Gentry White\n",
            "Iggy Azalea\n",
            "Jon Lee Brody\n",
            "Levy Tran\n",
            "Anna Colwell\n",
            "Viktor Hernandez\n",
            "Steve Coulter\n",
            "Robert Pralgo\n",
            "Antwan Mills\n",
            "J.J. Phillips\n",
            "Jorge Ferragut\n",
            "Sara Sohn\n",
            "Benjamin Blankenship\n",
            "D.J. Hapa\n",
            "T-Pain\n",
            "Brian Mahoney\n",
            "Brittney Alger\n",
            "Romeo Santos\n",
            "Jocelin Donahue\n",
            "Stephanie Langston\n",
            "Jorge-Luis Pallo\n",
            "Tego Calder√≥n\n",
            "Nathalie Kelley\n",
            "Shad Moss\n",
            "Don Omar\n",
            "Klement Tinaj\n",
            "Caleb Walker\n",
            "Cody Walker\n"
          ]
        }
      ]
    },
    {
      "cell_type": "markdown",
      "source": [
        "2. ### <b>This data has information about movies made in different languages. Which language has the highest average ROI (return on investment)? </b>"
      ],
      "metadata": {
        "id": "7dwVR1ZmmmnM"
      }
    },
    {
      "cell_type": "code",
      "source": [
        "pd.options.display.float_format = '{:.2f}%'.format"
      ],
      "metadata": {
        "id": "wRuENiwgpaqq"
      },
      "execution_count": 70,
      "outputs": []
    },
    {
      "cell_type": "code",
      "source": [
        "# creating roi column\n",
        "df['roi'] = (df.profit/df.budget)* 100"
      ],
      "metadata": {
        "id": "mgGQZnWHlB_3"
      },
      "execution_count": 65,
      "outputs": []
    },
    {
      "cell_type": "code",
      "source": [
        "df.head(2)"
      ],
      "metadata": {
        "colab": {
          "base_uri": "https://localhost:8080/",
          "height": 191
        },
        "id": "SNKbLXIKpcu3",
        "outputId": "d332616b-df7e-4e10-e312-975e67d0f673"
      },
      "execution_count": 71,
      "outputs": [
        {
          "output_type": "execute_result",
          "data": {
            "text/plain": [
              "     budget                                             genres  \\\n",
              "0  14000000                     [{'id': 35, 'name': 'Comedy'}]   \n",
              "1  40000000  [{'id': 35, 'name': 'Comedy'}, {'id': 18, 'nam...   \n",
              "\n",
              "  original_language                            original_title  \\\n",
              "0                en                    Hot Tub Time Machine 2   \n",
              "1                en  The Princess Diaries 2: Royal Engagement   \n",
              "\n",
              "                                                cast  \\\n",
              "0  [{'cast_id': 4, 'character': 'Lou', 'credit_id...   \n",
              "1  [{'cast_id': 1, 'character': 'Mia Thermopolis'...   \n",
              "\n",
              "                                                crew   revenue    profit  \\\n",
              "0  [{'credit_id': '59ac067c92514107af02c8c8', 'de...  12314651  -1685349   \n",
              "1  [{'credit_id': '52fe43fe9251416c7502563d', 'de...  95149435  55149435   \n",
              "\n",
              "      roi  \n",
              "0 -12.04%  \n",
              "1 137.87%  "
            ],
            "text/html": [
              "\n",
              "  <div id=\"df-9ede59d7-6b8e-4bf5-8ebd-3123953891eb\">\n",
              "    <div class=\"colab-df-container\">\n",
              "      <div>\n",
              "<style scoped>\n",
              "    .dataframe tbody tr th:only-of-type {\n",
              "        vertical-align: middle;\n",
              "    }\n",
              "\n",
              "    .dataframe tbody tr th {\n",
              "        vertical-align: top;\n",
              "    }\n",
              "\n",
              "    .dataframe thead th {\n",
              "        text-align: right;\n",
              "    }\n",
              "</style>\n",
              "<table border=\"1\" class=\"dataframe\">\n",
              "  <thead>\n",
              "    <tr style=\"text-align: right;\">\n",
              "      <th></th>\n",
              "      <th>budget</th>\n",
              "      <th>genres</th>\n",
              "      <th>original_language</th>\n",
              "      <th>original_title</th>\n",
              "      <th>cast</th>\n",
              "      <th>crew</th>\n",
              "      <th>revenue</th>\n",
              "      <th>profit</th>\n",
              "      <th>roi</th>\n",
              "    </tr>\n",
              "  </thead>\n",
              "  <tbody>\n",
              "    <tr>\n",
              "      <th>0</th>\n",
              "      <td>14000000</td>\n",
              "      <td>[{'id': 35, 'name': 'Comedy'}]</td>\n",
              "      <td>en</td>\n",
              "      <td>Hot Tub Time Machine 2</td>\n",
              "      <td>[{'cast_id': 4, 'character': 'Lou', 'credit_id...</td>\n",
              "      <td>[{'credit_id': '59ac067c92514107af02c8c8', 'de...</td>\n",
              "      <td>12314651</td>\n",
              "      <td>-1685349</td>\n",
              "      <td>-12.04%</td>\n",
              "    </tr>\n",
              "    <tr>\n",
              "      <th>1</th>\n",
              "      <td>40000000</td>\n",
              "      <td>[{'id': 35, 'name': 'Comedy'}, {'id': 18, 'nam...</td>\n",
              "      <td>en</td>\n",
              "      <td>The Princess Diaries 2: Royal Engagement</td>\n",
              "      <td>[{'cast_id': 1, 'character': 'Mia Thermopolis'...</td>\n",
              "      <td>[{'credit_id': '52fe43fe9251416c7502563d', 'de...</td>\n",
              "      <td>95149435</td>\n",
              "      <td>55149435</td>\n",
              "      <td>137.87%</td>\n",
              "    </tr>\n",
              "  </tbody>\n",
              "</table>\n",
              "</div>\n",
              "      <button class=\"colab-df-convert\" onclick=\"convertToInteractive('df-9ede59d7-6b8e-4bf5-8ebd-3123953891eb')\"\n",
              "              title=\"Convert this dataframe to an interactive table.\"\n",
              "              style=\"display:none;\">\n",
              "        \n",
              "  <svg xmlns=\"http://www.w3.org/2000/svg\" height=\"24px\"viewBox=\"0 0 24 24\"\n",
              "       width=\"24px\">\n",
              "    <path d=\"M0 0h24v24H0V0z\" fill=\"none\"/>\n",
              "    <path d=\"M18.56 5.44l.94 2.06.94-2.06 2.06-.94-2.06-.94-.94-2.06-.94 2.06-2.06.94zm-11 1L8.5 8.5l.94-2.06 2.06-.94-2.06-.94L8.5 2.5l-.94 2.06-2.06.94zm10 10l.94 2.06.94-2.06 2.06-.94-2.06-.94-.94-2.06-.94 2.06-2.06.94z\"/><path d=\"M17.41 7.96l-1.37-1.37c-.4-.4-.92-.59-1.43-.59-.52 0-1.04.2-1.43.59L10.3 9.45l-7.72 7.72c-.78.78-.78 2.05 0 2.83L4 21.41c.39.39.9.59 1.41.59.51 0 1.02-.2 1.41-.59l7.78-7.78 2.81-2.81c.8-.78.8-2.07 0-2.86zM5.41 20L4 18.59l7.72-7.72 1.47 1.35L5.41 20z\"/>\n",
              "  </svg>\n",
              "      </button>\n",
              "      \n",
              "  <style>\n",
              "    .colab-df-container {\n",
              "      display:flex;\n",
              "      flex-wrap:wrap;\n",
              "      gap: 12px;\n",
              "    }\n",
              "\n",
              "    .colab-df-convert {\n",
              "      background-color: #E8F0FE;\n",
              "      border: none;\n",
              "      border-radius: 50%;\n",
              "      cursor: pointer;\n",
              "      display: none;\n",
              "      fill: #1967D2;\n",
              "      height: 32px;\n",
              "      padding: 0 0 0 0;\n",
              "      width: 32px;\n",
              "    }\n",
              "\n",
              "    .colab-df-convert:hover {\n",
              "      background-color: #E2EBFA;\n",
              "      box-shadow: 0px 1px 2px rgba(60, 64, 67, 0.3), 0px 1px 3px 1px rgba(60, 64, 67, 0.15);\n",
              "      fill: #174EA6;\n",
              "    }\n",
              "\n",
              "    [theme=dark] .colab-df-convert {\n",
              "      background-color: #3B4455;\n",
              "      fill: #D2E3FC;\n",
              "    }\n",
              "\n",
              "    [theme=dark] .colab-df-convert:hover {\n",
              "      background-color: #434B5C;\n",
              "      box-shadow: 0px 1px 3px 1px rgba(0, 0, 0, 0.15);\n",
              "      filter: drop-shadow(0px 1px 2px rgba(0, 0, 0, 0.3));\n",
              "      fill: #FFFFFF;\n",
              "    }\n",
              "  </style>\n",
              "\n",
              "      <script>\n",
              "        const buttonEl =\n",
              "          document.querySelector('#df-9ede59d7-6b8e-4bf5-8ebd-3123953891eb button.colab-df-convert');\n",
              "        buttonEl.style.display =\n",
              "          google.colab.kernel.accessAllowed ? 'block' : 'none';\n",
              "\n",
              "        async function convertToInteractive(key) {\n",
              "          const element = document.querySelector('#df-9ede59d7-6b8e-4bf5-8ebd-3123953891eb');\n",
              "          const dataTable =\n",
              "            await google.colab.kernel.invokeFunction('convertToInteractive',\n",
              "                                                     [key], {});\n",
              "          if (!dataTable) return;\n",
              "\n",
              "          const docLinkHtml = 'Like what you see? Visit the ' +\n",
              "            '<a target=\"_blank\" href=https://colab.research.google.com/notebooks/data_table.ipynb>data table notebook</a>'\n",
              "            + ' to learn more about interactive tables.';\n",
              "          element.innerHTML = '';\n",
              "          dataTable['output_type'] = 'display_data';\n",
              "          await google.colab.output.renderOutput(dataTable, element);\n",
              "          const docLink = document.createElement('div');\n",
              "          docLink.innerHTML = docLinkHtml;\n",
              "          element.appendChild(docLink);\n",
              "        }\n",
              "      </script>\n",
              "    </div>\n",
              "  </div>\n",
              "  "
            ]
          },
          "metadata": {},
          "execution_count": 71
        }
      ]
    },
    {
      "cell_type": "code",
      "source": [
        "df.groupby('original_language',as_index=False).agg({'roi':'mean'}).sort_values(by='roi',ascending=False).iloc[0,0]"
      ],
      "metadata": {
        "colab": {
          "base_uri": "https://localhost:8080/",
          "height": 36
        },
        "id": "y8ecYXQ5pec5",
        "outputId": "c5a049bd-7696-4509-9039-ffb5daad5702"
      },
      "execution_count": 78,
      "outputs": [
        {
          "output_type": "execute_result",
          "data": {
            "text/plain": [
              "'ko'"
            ],
            "application/vnd.google.colaboratory.intrinsic+json": {
              "type": "string"
            }
          },
          "metadata": {},
          "execution_count": 78
        }
      ]
    },
    {
      "cell_type": "code",
      "source": [
        "lan_with_highest_avg_roi = df.groupby('original_language',as_index=False).agg({'roi':'mean'}).sort_values(by='roi',ascending=False).iloc[0,0]"
      ],
      "metadata": {
        "id": "6P-Ds-WMrOR6"
      },
      "execution_count": 79,
      "outputs": []
    },
    {
      "cell_type": "code",
      "source": [
        "lan_with_highest_avg_roi"
      ],
      "metadata": {
        "colab": {
          "base_uri": "https://localhost:8080/",
          "height": 36
        },
        "id": "fE0jApq3rWqn",
        "outputId": "33b44e70-6e51-48a3-ab5e-c28aca1daa67"
      },
      "execution_count": 80,
      "outputs": [
        {
          "output_type": "execute_result",
          "data": {
            "text/plain": [
              "'ko'"
            ],
            "application/vnd.google.colaboratory.intrinsic+json": {
              "type": "string"
            }
          },
          "metadata": {},
          "execution_count": 80
        }
      ]
    },
    {
      "cell_type": "markdown",
      "source": [
        "3. ### <b> Find out the unique genres of movies in this dataset.</b>"
      ],
      "metadata": {
        "id": "pHCPls93rb7l"
      }
    },
    {
      "cell_type": "code",
      "source": [
        "df['genres'][0][0]['name']"
      ],
      "metadata": {
        "colab": {
          "base_uri": "https://localhost:8080/",
          "height": 36
        },
        "id": "NiYFp7AWraw6",
        "outputId": "7b060c9d-c2f4-4ba5-be2e-565cabaaefe2"
      },
      "execution_count": 90,
      "outputs": [
        {
          "output_type": "execute_result",
          "data": {
            "text/plain": [
              "'Comedy'"
            ],
            "application/vnd.google.colaboratory.intrinsic+json": {
              "type": "string"
            }
          },
          "metadata": {},
          "execution_count": 90
        }
      ]
    },
    {
      "cell_type": "code",
      "source": [
        "df['genres'][0][0]"
      ],
      "metadata": {
        "colab": {
          "base_uri": "https://localhost:8080/"
        },
        "id": "Y3r2fZCPsMOH",
        "outputId": "0929e911-32b5-400f-c903-90315760ed5f"
      },
      "execution_count": 92,
      "outputs": [
        {
          "output_type": "execute_result",
          "data": {
            "text/plain": [
              "{'id': 35, 'name': 'Comedy'}"
            ]
          },
          "metadata": {},
          "execution_count": 92
        }
      ]
    },
    {
      "cell_type": "code",
      "source": [
        "df['genres'][0]"
      ],
      "metadata": {
        "colab": {
          "base_uri": "https://localhost:8080/"
        },
        "id": "cCmHNSEisgcG",
        "outputId": "fb2a399d-a131-4375-ff25-f1aef0841657"
      },
      "execution_count": 91,
      "outputs": [
        {
          "output_type": "execute_result",
          "data": {
            "text/plain": [
              "[{'id': 35, 'name': 'Comedy'}]"
            ]
          },
          "metadata": {},
          "execution_count": 91
        }
      ]
    },
    {
      "cell_type": "code",
      "source": [
        "df[df['genres'].isna()]"
      ],
      "metadata": {
        "colab": {
          "base_uri": "https://localhost:8080/",
          "height": 434
        },
        "id": "7dc8d5XIta-S",
        "outputId": "48a9f46e-d6f0-4e98-ed22-17565bdbcae4"
      },
      "execution_count": 106,
      "outputs": [
        {
          "output_type": "execute_result",
          "data": {
            "text/plain": [
              "       budget genres original_language  \\\n",
              "470   2000000    NaN                en   \n",
              "1622   400000    NaN                en   \n",
              "1814  2700000    NaN                it   \n",
              "1819  8000000    NaN                ru   \n",
              "2423   500000    NaN                en   \n",
              "2686  8000000    NaN                ru   \n",
              "2900   200000    NaN                en   \n",
              "\n",
              "                                       original_title  \\\n",
              "470   The Book of Mormon Movie, Volume 1: The Journey   \n",
              "1622                                          Jackpot   \n",
              "1814                                     Курочка Ряба   \n",
              "1819                          Небо. Самолёт. Девушка.   \n",
              "2423                                        Amarkalam   \n",
              "2686                                             Лифт   \n",
              "2900                          Poslednyaya skazka Rity   \n",
              "\n",
              "                                                   cast  \\\n",
              "470   [{'cast_id': 1, 'character': 'Sam', 'credit_id...   \n",
              "1622  [{'cast_id': 4, 'character': '', 'credit_id': ...   \n",
              "1814                                                 []   \n",
              "1819  [{'cast_id': 2, 'character': '', 'credit_id': ...   \n",
              "2423  [{'cast_id': 1, 'character': 'Vaasu', 'credit_...   \n",
              "2686                                                 []   \n",
              "2900  [{'cast_id': 3, 'character': '', 'credit_id': ...   \n",
              "\n",
              "                                                   crew  revenue   profit  \\\n",
              "470                                                 NaN  1672730  -327270   \n",
              "1622  [{'credit_id': '52fe4d3c9251416c9110f319', 'de...    43719  -356281   \n",
              "1814  [{'credit_id': '52fe4c139251416c910eeee3', 'de...  4635143  1935143   \n",
              "1819  [{'credit_id': '52fe4728c3a368484e0b7f53', 'de...   314195 -7685805   \n",
              "2423  [{'credit_id': '53b42af80e0a26598c00cea3', 'de...   500000        0   \n",
              "2686  [{'credit_id': '57b8a5d19251411bc6000587', 'de...   123182 -7876818   \n",
              "2900  [{'credit_id': '52fe4ab89251416c750ebaab', 'de...   486937   286937   \n",
              "\n",
              "         roi  \n",
              "470  -16.36%  \n",
              "1622 -89.07%  \n",
              "1814  71.67%  \n",
              "1819 -96.07%  \n",
              "2423   0.00%  \n",
              "2686 -98.46%  \n",
              "2900 143.47%  "
            ],
            "text/html": [
              "\n",
              "  <div id=\"df-73bc9263-6650-4759-a6ce-2d6eecdf83d4\">\n",
              "    <div class=\"colab-df-container\">\n",
              "      <div>\n",
              "<style scoped>\n",
              "    .dataframe tbody tr th:only-of-type {\n",
              "        vertical-align: middle;\n",
              "    }\n",
              "\n",
              "    .dataframe tbody tr th {\n",
              "        vertical-align: top;\n",
              "    }\n",
              "\n",
              "    .dataframe thead th {\n",
              "        text-align: right;\n",
              "    }\n",
              "</style>\n",
              "<table border=\"1\" class=\"dataframe\">\n",
              "  <thead>\n",
              "    <tr style=\"text-align: right;\">\n",
              "      <th></th>\n",
              "      <th>budget</th>\n",
              "      <th>genres</th>\n",
              "      <th>original_language</th>\n",
              "      <th>original_title</th>\n",
              "      <th>cast</th>\n",
              "      <th>crew</th>\n",
              "      <th>revenue</th>\n",
              "      <th>profit</th>\n",
              "      <th>roi</th>\n",
              "    </tr>\n",
              "  </thead>\n",
              "  <tbody>\n",
              "    <tr>\n",
              "      <th>470</th>\n",
              "      <td>2000000</td>\n",
              "      <td>NaN</td>\n",
              "      <td>en</td>\n",
              "      <td>The Book of Mormon Movie, Volume 1: The Journey</td>\n",
              "      <td>[{'cast_id': 1, 'character': 'Sam', 'credit_id...</td>\n",
              "      <td>NaN</td>\n",
              "      <td>1672730</td>\n",
              "      <td>-327270</td>\n",
              "      <td>-16.36%</td>\n",
              "    </tr>\n",
              "    <tr>\n",
              "      <th>1622</th>\n",
              "      <td>400000</td>\n",
              "      <td>NaN</td>\n",
              "      <td>en</td>\n",
              "      <td>Jackpot</td>\n",
              "      <td>[{'cast_id': 4, 'character': '', 'credit_id': ...</td>\n",
              "      <td>[{'credit_id': '52fe4d3c9251416c9110f319', 'de...</td>\n",
              "      <td>43719</td>\n",
              "      <td>-356281</td>\n",
              "      <td>-89.07%</td>\n",
              "    </tr>\n",
              "    <tr>\n",
              "      <th>1814</th>\n",
              "      <td>2700000</td>\n",
              "      <td>NaN</td>\n",
              "      <td>it</td>\n",
              "      <td>Курочка Ряба</td>\n",
              "      <td>[]</td>\n",
              "      <td>[{'credit_id': '52fe4c139251416c910eeee3', 'de...</td>\n",
              "      <td>4635143</td>\n",
              "      <td>1935143</td>\n",
              "      <td>71.67%</td>\n",
              "    </tr>\n",
              "    <tr>\n",
              "      <th>1819</th>\n",
              "      <td>8000000</td>\n",
              "      <td>NaN</td>\n",
              "      <td>ru</td>\n",
              "      <td>Небо. Самолёт. Девушка.</td>\n",
              "      <td>[{'cast_id': 2, 'character': '', 'credit_id': ...</td>\n",
              "      <td>[{'credit_id': '52fe4728c3a368484e0b7f53', 'de...</td>\n",
              "      <td>314195</td>\n",
              "      <td>-7685805</td>\n",
              "      <td>-96.07%</td>\n",
              "    </tr>\n",
              "    <tr>\n",
              "      <th>2423</th>\n",
              "      <td>500000</td>\n",
              "      <td>NaN</td>\n",
              "      <td>en</td>\n",
              "      <td>Amarkalam</td>\n",
              "      <td>[{'cast_id': 1, 'character': 'Vaasu', 'credit_...</td>\n",
              "      <td>[{'credit_id': '53b42af80e0a26598c00cea3', 'de...</td>\n",
              "      <td>500000</td>\n",
              "      <td>0</td>\n",
              "      <td>0.00%</td>\n",
              "    </tr>\n",
              "    <tr>\n",
              "      <th>2686</th>\n",
              "      <td>8000000</td>\n",
              "      <td>NaN</td>\n",
              "      <td>ru</td>\n",
              "      <td>Лифт</td>\n",
              "      <td>[]</td>\n",
              "      <td>[{'credit_id': '57b8a5d19251411bc6000587', 'de...</td>\n",
              "      <td>123182</td>\n",
              "      <td>-7876818</td>\n",
              "      <td>-98.46%</td>\n",
              "    </tr>\n",
              "    <tr>\n",
              "      <th>2900</th>\n",
              "      <td>200000</td>\n",
              "      <td>NaN</td>\n",
              "      <td>en</td>\n",
              "      <td>Poslednyaya skazka Rity</td>\n",
              "      <td>[{'cast_id': 3, 'character': '', 'credit_id': ...</td>\n",
              "      <td>[{'credit_id': '52fe4ab89251416c750ebaab', 'de...</td>\n",
              "      <td>486937</td>\n",
              "      <td>286937</td>\n",
              "      <td>143.47%</td>\n",
              "    </tr>\n",
              "  </tbody>\n",
              "</table>\n",
              "</div>\n",
              "      <button class=\"colab-df-convert\" onclick=\"convertToInteractive('df-73bc9263-6650-4759-a6ce-2d6eecdf83d4')\"\n",
              "              title=\"Convert this dataframe to an interactive table.\"\n",
              "              style=\"display:none;\">\n",
              "        \n",
              "  <svg xmlns=\"http://www.w3.org/2000/svg\" height=\"24px\"viewBox=\"0 0 24 24\"\n",
              "       width=\"24px\">\n",
              "    <path d=\"M0 0h24v24H0V0z\" fill=\"none\"/>\n",
              "    <path d=\"M18.56 5.44l.94 2.06.94-2.06 2.06-.94-2.06-.94-.94-2.06-.94 2.06-2.06.94zm-11 1L8.5 8.5l.94-2.06 2.06-.94-2.06-.94L8.5 2.5l-.94 2.06-2.06.94zm10 10l.94 2.06.94-2.06 2.06-.94-2.06-.94-.94-2.06-.94 2.06-2.06.94z\"/><path d=\"M17.41 7.96l-1.37-1.37c-.4-.4-.92-.59-1.43-.59-.52 0-1.04.2-1.43.59L10.3 9.45l-7.72 7.72c-.78.78-.78 2.05 0 2.83L4 21.41c.39.39.9.59 1.41.59.51 0 1.02-.2 1.41-.59l7.78-7.78 2.81-2.81c.8-.78.8-2.07 0-2.86zM5.41 20L4 18.59l7.72-7.72 1.47 1.35L5.41 20z\"/>\n",
              "  </svg>\n",
              "      </button>\n",
              "      \n",
              "  <style>\n",
              "    .colab-df-container {\n",
              "      display:flex;\n",
              "      flex-wrap:wrap;\n",
              "      gap: 12px;\n",
              "    }\n",
              "\n",
              "    .colab-df-convert {\n",
              "      background-color: #E8F0FE;\n",
              "      border: none;\n",
              "      border-radius: 50%;\n",
              "      cursor: pointer;\n",
              "      display: none;\n",
              "      fill: #1967D2;\n",
              "      height: 32px;\n",
              "      padding: 0 0 0 0;\n",
              "      width: 32px;\n",
              "    }\n",
              "\n",
              "    .colab-df-convert:hover {\n",
              "      background-color: #E2EBFA;\n",
              "      box-shadow: 0px 1px 2px rgba(60, 64, 67, 0.3), 0px 1px 3px 1px rgba(60, 64, 67, 0.15);\n",
              "      fill: #174EA6;\n",
              "    }\n",
              "\n",
              "    [theme=dark] .colab-df-convert {\n",
              "      background-color: #3B4455;\n",
              "      fill: #D2E3FC;\n",
              "    }\n",
              "\n",
              "    [theme=dark] .colab-df-convert:hover {\n",
              "      background-color: #434B5C;\n",
              "      box-shadow: 0px 1px 3px 1px rgba(0, 0, 0, 0.15);\n",
              "      filter: drop-shadow(0px 1px 2px rgba(0, 0, 0, 0.3));\n",
              "      fill: #FFFFFF;\n",
              "    }\n",
              "  </style>\n",
              "\n",
              "      <script>\n",
              "        const buttonEl =\n",
              "          document.querySelector('#df-73bc9263-6650-4759-a6ce-2d6eecdf83d4 button.colab-df-convert');\n",
              "        buttonEl.style.display =\n",
              "          google.colab.kernel.accessAllowed ? 'block' : 'none';\n",
              "\n",
              "        async function convertToInteractive(key) {\n",
              "          const element = document.querySelector('#df-73bc9263-6650-4759-a6ce-2d6eecdf83d4');\n",
              "          const dataTable =\n",
              "            await google.colab.kernel.invokeFunction('convertToInteractive',\n",
              "                                                     [key], {});\n",
              "          if (!dataTable) return;\n",
              "\n",
              "          const docLinkHtml = 'Like what you see? Visit the ' +\n",
              "            '<a target=\"_blank\" href=https://colab.research.google.com/notebooks/data_table.ipynb>data table notebook</a>'\n",
              "            + ' to learn more about interactive tables.';\n",
              "          element.innerHTML = '';\n",
              "          dataTable['output_type'] = 'display_data';\n",
              "          await google.colab.output.renderOutput(dataTable, element);\n",
              "          const docLink = document.createElement('div');\n",
              "          docLink.innerHTML = docLinkHtml;\n",
              "          element.appendChild(docLink);\n",
              "        }\n",
              "      </script>\n",
              "    </div>\n",
              "  </div>\n",
              "  "
            ]
          },
          "metadata": {},
          "execution_count": 106
        }
      ]
    },
    {
      "cell_type": "code",
      "source": [
        "no_null_genres = df[~df['genres'].isna()]"
      ],
      "metadata": {
        "id": "yiaT4clCuMXE"
      },
      "execution_count": 107,
      "outputs": []
    },
    {
      "cell_type": "code",
      "source": [
        "no_null_genres"
      ],
      "metadata": {
        "colab": {
          "base_uri": "https://localhost:8080/",
          "height": 641
        },
        "id": "uUPnxO0Num4i",
        "outputId": "79f42b0f-d640-4d40-bfcf-24d151238937"
      },
      "execution_count": 109,
      "outputs": [
        {
          "output_type": "execute_result",
          "data": {
            "text/plain": [
              "        budget                                             genres  \\\n",
              "0     14000000                     [{'id': 35, 'name': 'Comedy'}]   \n",
              "1     40000000  [{'id': 35, 'name': 'Comedy'}, {'id': 18, 'nam...   \n",
              "2      3300000                      [{'id': 18, 'name': 'Drama'}]   \n",
              "3      1200000  [{'id': 53, 'name': 'Thriller'}, {'id': 18, 'n...   \n",
              "4      8000000  [{'id': 28, 'name': 'Action'}, {'id': 53, 'nam...   \n",
              "...        ...                                                ...   \n",
              "2995   8000000  [{'id': 35, 'name': 'Comedy'}, {'id': 10749, '...   \n",
              "2996   8000000  [{'id': 18, 'name': 'Drama'}, {'id': 10402, 'n...   \n",
              "2997  65000000  [{'id': 80, 'name': 'Crime'}, {'id': 28, 'name...   \n",
              "2998  42000000  [{'id': 35, 'name': 'Comedy'}, {'id': 10749, '...   \n",
              "2999  35000000  [{'id': 53, 'name': 'Thriller'}, {'id': 28, 'n...   \n",
              "\n",
              "     original_language                            original_title  \\\n",
              "0                   en                    Hot Tub Time Machine 2   \n",
              "1                   en  The Princess Diaries 2: Royal Engagement   \n",
              "2                   en                                  Whiplash   \n",
              "3                   hi                                   Kahaani   \n",
              "4                   ko                                      마린보이   \n",
              "...                ...                                       ...   \n",
              "2995                en                                   Chasers   \n",
              "2996                sv                               Vi är bäst!   \n",
              "2997                en                   The Long Kiss Goodnight   \n",
              "2998                en                          Along Came Polly   \n",
              "2999                en                                 Abduction   \n",
              "\n",
              "                                                   cast  \\\n",
              "0     [{'cast_id': 4, 'character': 'Lou', 'credit_id...   \n",
              "1     [{'cast_id': 1, 'character': 'Mia Thermopolis'...   \n",
              "2     [{'cast_id': 5, 'character': 'Andrew Neimann',...   \n",
              "3     [{'cast_id': 1, 'character': 'Vidya Bagchi', '...   \n",
              "4     [{'cast_id': 3, 'character': 'Chun-soo', 'cred...   \n",
              "...                                                 ...   \n",
              "2995  [{'cast_id': 2, 'character': 'Rock Reilly', 'c...   \n",
              "2996  [{'cast_id': 5, 'character': 'Bobo', 'credit_i...   \n",
              "2997  [{'cast_id': 10, 'character': 'Samantha Caine ...   \n",
              "2998  [{'cast_id': 8, 'character': 'Reuben Feffer', ...   \n",
              "2999  [{'cast_id': 2, 'character': 'Nathan Harper', ...   \n",
              "\n",
              "                                                   crew    revenue     profit  \\\n",
              "0     [{'credit_id': '59ac067c92514107af02c8c8', 'de...   12314651   -1685349   \n",
              "1     [{'credit_id': '52fe43fe9251416c7502563d', 'de...   95149435   55149435   \n",
              "2     [{'credit_id': '54d5356ec3a3683ba0000039', 'de...   13092000    9792000   \n",
              "3     [{'credit_id': '52fe48779251416c9108d6eb', 'de...   16000000   14800000   \n",
              "4     [{'credit_id': '52fe464b9251416c75073b43', 'de...    3923970   -4076030   \n",
              "...                                                 ...        ...        ...   \n",
              "2995  [{'credit_id': '52fe4494c3a368484e02ac7d', 'de...    1596687   -6403313   \n",
              "2996  [{'credit_id': '5716b72ac3a3686678012c84', 'de...     180590   -7819410   \n",
              "2997  [{'credit_id': '52fe443a9251416c7502d579', 'de...   89456761   24456761   \n",
              "2998  [{'credit_id': '556f817b9251410866000a63', 'de...  171963386  129963386   \n",
              "2999  [{'credit_id': '5391990d0e0a260fb5001629', 'de...   82087155   47087155   \n",
              "\n",
              "          roi  \n",
              "0     -12.04%  \n",
              "1     137.87%  \n",
              "2     296.73%  \n",
              "3    1233.33%  \n",
              "4     -50.95%  \n",
              "...       ...  \n",
              "2995  -80.04%  \n",
              "2996  -97.74%  \n",
              "2997   37.63%  \n",
              "2998  309.44%  \n",
              "2999  134.53%  \n",
              "\n",
              "[2993 rows x 9 columns]"
            ],
            "text/html": [
              "\n",
              "  <div id=\"df-e43a7058-fbb1-49a5-b29c-9eed7e4d1a20\">\n",
              "    <div class=\"colab-df-container\">\n",
              "      <div>\n",
              "<style scoped>\n",
              "    .dataframe tbody tr th:only-of-type {\n",
              "        vertical-align: middle;\n",
              "    }\n",
              "\n",
              "    .dataframe tbody tr th {\n",
              "        vertical-align: top;\n",
              "    }\n",
              "\n",
              "    .dataframe thead th {\n",
              "        text-align: right;\n",
              "    }\n",
              "</style>\n",
              "<table border=\"1\" class=\"dataframe\">\n",
              "  <thead>\n",
              "    <tr style=\"text-align: right;\">\n",
              "      <th></th>\n",
              "      <th>budget</th>\n",
              "      <th>genres</th>\n",
              "      <th>original_language</th>\n",
              "      <th>original_title</th>\n",
              "      <th>cast</th>\n",
              "      <th>crew</th>\n",
              "      <th>revenue</th>\n",
              "      <th>profit</th>\n",
              "      <th>roi</th>\n",
              "    </tr>\n",
              "  </thead>\n",
              "  <tbody>\n",
              "    <tr>\n",
              "      <th>0</th>\n",
              "      <td>14000000</td>\n",
              "      <td>[{'id': 35, 'name': 'Comedy'}]</td>\n",
              "      <td>en</td>\n",
              "      <td>Hot Tub Time Machine 2</td>\n",
              "      <td>[{'cast_id': 4, 'character': 'Lou', 'credit_id...</td>\n",
              "      <td>[{'credit_id': '59ac067c92514107af02c8c8', 'de...</td>\n",
              "      <td>12314651</td>\n",
              "      <td>-1685349</td>\n",
              "      <td>-12.04%</td>\n",
              "    </tr>\n",
              "    <tr>\n",
              "      <th>1</th>\n",
              "      <td>40000000</td>\n",
              "      <td>[{'id': 35, 'name': 'Comedy'}, {'id': 18, 'nam...</td>\n",
              "      <td>en</td>\n",
              "      <td>The Princess Diaries 2: Royal Engagement</td>\n",
              "      <td>[{'cast_id': 1, 'character': 'Mia Thermopolis'...</td>\n",
              "      <td>[{'credit_id': '52fe43fe9251416c7502563d', 'de...</td>\n",
              "      <td>95149435</td>\n",
              "      <td>55149435</td>\n",
              "      <td>137.87%</td>\n",
              "    </tr>\n",
              "    <tr>\n",
              "      <th>2</th>\n",
              "      <td>3300000</td>\n",
              "      <td>[{'id': 18, 'name': 'Drama'}]</td>\n",
              "      <td>en</td>\n",
              "      <td>Whiplash</td>\n",
              "      <td>[{'cast_id': 5, 'character': 'Andrew Neimann',...</td>\n",
              "      <td>[{'credit_id': '54d5356ec3a3683ba0000039', 'de...</td>\n",
              "      <td>13092000</td>\n",
              "      <td>9792000</td>\n",
              "      <td>296.73%</td>\n",
              "    </tr>\n",
              "    <tr>\n",
              "      <th>3</th>\n",
              "      <td>1200000</td>\n",
              "      <td>[{'id': 53, 'name': 'Thriller'}, {'id': 18, 'n...</td>\n",
              "      <td>hi</td>\n",
              "      <td>Kahaani</td>\n",
              "      <td>[{'cast_id': 1, 'character': 'Vidya Bagchi', '...</td>\n",
              "      <td>[{'credit_id': '52fe48779251416c9108d6eb', 'de...</td>\n",
              "      <td>16000000</td>\n",
              "      <td>14800000</td>\n",
              "      <td>1233.33%</td>\n",
              "    </tr>\n",
              "    <tr>\n",
              "      <th>4</th>\n",
              "      <td>8000000</td>\n",
              "      <td>[{'id': 28, 'name': 'Action'}, {'id': 53, 'nam...</td>\n",
              "      <td>ko</td>\n",
              "      <td>마린보이</td>\n",
              "      <td>[{'cast_id': 3, 'character': 'Chun-soo', 'cred...</td>\n",
              "      <td>[{'credit_id': '52fe464b9251416c75073b43', 'de...</td>\n",
              "      <td>3923970</td>\n",
              "      <td>-4076030</td>\n",
              "      <td>-50.95%</td>\n",
              "    </tr>\n",
              "    <tr>\n",
              "      <th>...</th>\n",
              "      <td>...</td>\n",
              "      <td>...</td>\n",
              "      <td>...</td>\n",
              "      <td>...</td>\n",
              "      <td>...</td>\n",
              "      <td>...</td>\n",
              "      <td>...</td>\n",
              "      <td>...</td>\n",
              "      <td>...</td>\n",
              "    </tr>\n",
              "    <tr>\n",
              "      <th>2995</th>\n",
              "      <td>8000000</td>\n",
              "      <td>[{'id': 35, 'name': 'Comedy'}, {'id': 10749, '...</td>\n",
              "      <td>en</td>\n",
              "      <td>Chasers</td>\n",
              "      <td>[{'cast_id': 2, 'character': 'Rock Reilly', 'c...</td>\n",
              "      <td>[{'credit_id': '52fe4494c3a368484e02ac7d', 'de...</td>\n",
              "      <td>1596687</td>\n",
              "      <td>-6403313</td>\n",
              "      <td>-80.04%</td>\n",
              "    </tr>\n",
              "    <tr>\n",
              "      <th>2996</th>\n",
              "      <td>8000000</td>\n",
              "      <td>[{'id': 18, 'name': 'Drama'}, {'id': 10402, 'n...</td>\n",
              "      <td>sv</td>\n",
              "      <td>Vi är bäst!</td>\n",
              "      <td>[{'cast_id': 5, 'character': 'Bobo', 'credit_i...</td>\n",
              "      <td>[{'credit_id': '5716b72ac3a3686678012c84', 'de...</td>\n",
              "      <td>180590</td>\n",
              "      <td>-7819410</td>\n",
              "      <td>-97.74%</td>\n",
              "    </tr>\n",
              "    <tr>\n",
              "      <th>2997</th>\n",
              "      <td>65000000</td>\n",
              "      <td>[{'id': 80, 'name': 'Crime'}, {'id': 28, 'name...</td>\n",
              "      <td>en</td>\n",
              "      <td>The Long Kiss Goodnight</td>\n",
              "      <td>[{'cast_id': 10, 'character': 'Samantha Caine ...</td>\n",
              "      <td>[{'credit_id': '52fe443a9251416c7502d579', 'de...</td>\n",
              "      <td>89456761</td>\n",
              "      <td>24456761</td>\n",
              "      <td>37.63%</td>\n",
              "    </tr>\n",
              "    <tr>\n",
              "      <th>2998</th>\n",
              "      <td>42000000</td>\n",
              "      <td>[{'id': 35, 'name': 'Comedy'}, {'id': 10749, '...</td>\n",
              "      <td>en</td>\n",
              "      <td>Along Came Polly</td>\n",
              "      <td>[{'cast_id': 8, 'character': 'Reuben Feffer', ...</td>\n",
              "      <td>[{'credit_id': '556f817b9251410866000a63', 'de...</td>\n",
              "      <td>171963386</td>\n",
              "      <td>129963386</td>\n",
              "      <td>309.44%</td>\n",
              "    </tr>\n",
              "    <tr>\n",
              "      <th>2999</th>\n",
              "      <td>35000000</td>\n",
              "      <td>[{'id': 53, 'name': 'Thriller'}, {'id': 28, 'n...</td>\n",
              "      <td>en</td>\n",
              "      <td>Abduction</td>\n",
              "      <td>[{'cast_id': 2, 'character': 'Nathan Harper', ...</td>\n",
              "      <td>[{'credit_id': '5391990d0e0a260fb5001629', 'de...</td>\n",
              "      <td>82087155</td>\n",
              "      <td>47087155</td>\n",
              "      <td>134.53%</td>\n",
              "    </tr>\n",
              "  </tbody>\n",
              "</table>\n",
              "<p>2993 rows × 9 columns</p>\n",
              "</div>\n",
              "      <button class=\"colab-df-convert\" onclick=\"convertToInteractive('df-e43a7058-fbb1-49a5-b29c-9eed7e4d1a20')\"\n",
              "              title=\"Convert this dataframe to an interactive table.\"\n",
              "              style=\"display:none;\">\n",
              "        \n",
              "  <svg xmlns=\"http://www.w3.org/2000/svg\" height=\"24px\"viewBox=\"0 0 24 24\"\n",
              "       width=\"24px\">\n",
              "    <path d=\"M0 0h24v24H0V0z\" fill=\"none\"/>\n",
              "    <path d=\"M18.56 5.44l.94 2.06.94-2.06 2.06-.94-2.06-.94-.94-2.06-.94 2.06-2.06.94zm-11 1L8.5 8.5l.94-2.06 2.06-.94-2.06-.94L8.5 2.5l-.94 2.06-2.06.94zm10 10l.94 2.06.94-2.06 2.06-.94-2.06-.94-.94-2.06-.94 2.06-2.06.94z\"/><path d=\"M17.41 7.96l-1.37-1.37c-.4-.4-.92-.59-1.43-.59-.52 0-1.04.2-1.43.59L10.3 9.45l-7.72 7.72c-.78.78-.78 2.05 0 2.83L4 21.41c.39.39.9.59 1.41.59.51 0 1.02-.2 1.41-.59l7.78-7.78 2.81-2.81c.8-.78.8-2.07 0-2.86zM5.41 20L4 18.59l7.72-7.72 1.47 1.35L5.41 20z\"/>\n",
              "  </svg>\n",
              "      </button>\n",
              "      \n",
              "  <style>\n",
              "    .colab-df-container {\n",
              "      display:flex;\n",
              "      flex-wrap:wrap;\n",
              "      gap: 12px;\n",
              "    }\n",
              "\n",
              "    .colab-df-convert {\n",
              "      background-color: #E8F0FE;\n",
              "      border: none;\n",
              "      border-radius: 50%;\n",
              "      cursor: pointer;\n",
              "      display: none;\n",
              "      fill: #1967D2;\n",
              "      height: 32px;\n",
              "      padding: 0 0 0 0;\n",
              "      width: 32px;\n",
              "    }\n",
              "\n",
              "    .colab-df-convert:hover {\n",
              "      background-color: #E2EBFA;\n",
              "      box-shadow: 0px 1px 2px rgba(60, 64, 67, 0.3), 0px 1px 3px 1px rgba(60, 64, 67, 0.15);\n",
              "      fill: #174EA6;\n",
              "    }\n",
              "\n",
              "    [theme=dark] .colab-df-convert {\n",
              "      background-color: #3B4455;\n",
              "      fill: #D2E3FC;\n",
              "    }\n",
              "\n",
              "    [theme=dark] .colab-df-convert:hover {\n",
              "      background-color: #434B5C;\n",
              "      box-shadow: 0px 1px 3px 1px rgba(0, 0, 0, 0.15);\n",
              "      filter: drop-shadow(0px 1px 2px rgba(0, 0, 0, 0.3));\n",
              "      fill: #FFFFFF;\n",
              "    }\n",
              "  </style>\n",
              "\n",
              "      <script>\n",
              "        const buttonEl =\n",
              "          document.querySelector('#df-e43a7058-fbb1-49a5-b29c-9eed7e4d1a20 button.colab-df-convert');\n",
              "        buttonEl.style.display =\n",
              "          google.colab.kernel.accessAllowed ? 'block' : 'none';\n",
              "\n",
              "        async function convertToInteractive(key) {\n",
              "          const element = document.querySelector('#df-e43a7058-fbb1-49a5-b29c-9eed7e4d1a20');\n",
              "          const dataTable =\n",
              "            await google.colab.kernel.invokeFunction('convertToInteractive',\n",
              "                                                     [key], {});\n",
              "          if (!dataTable) return;\n",
              "\n",
              "          const docLinkHtml = 'Like what you see? Visit the ' +\n",
              "            '<a target=\"_blank\" href=https://colab.research.google.com/notebooks/data_table.ipynb>data table notebook</a>'\n",
              "            + ' to learn more about interactive tables.';\n",
              "          element.innerHTML = '';\n",
              "          dataTable['output_type'] = 'display_data';\n",
              "          await google.colab.output.renderOutput(dataTable, element);\n",
              "          const docLink = document.createElement('div');\n",
              "          docLink.innerHTML = docLinkHtml;\n",
              "          element.appendChild(docLink);\n",
              "        }\n",
              "      </script>\n",
              "    </div>\n",
              "  </div>\n",
              "  "
            ]
          },
          "metadata": {},
          "execution_count": 109
        }
      ]
    },
    {
      "cell_type": "code",
      "source": [
        "genres = []\n",
        "for i in no_null_genres['genres']:\n",
        "  for u in i:\n",
        "    genres.append(u['name'])"
      ],
      "metadata": {
        "id": "7NcHAfdMsqbn"
      },
      "execution_count": 114,
      "outputs": []
    },
    {
      "cell_type": "code",
      "source": [
        "unique_genres = pd.DataFrame(set(genres))"
      ],
      "metadata": {
        "id": "MdFoh-Z1uckU"
      },
      "execution_count": 121,
      "outputs": []
    },
    {
      "cell_type": "code",
      "source": [
        "unique_genres.columns=['unique genres']"
      ],
      "metadata": {
        "id": "tcz2XyqvwF5O"
      },
      "execution_count": 123,
      "outputs": []
    },
    {
      "cell_type": "code",
      "source": [
        "unique_genres"
      ],
      "metadata": {
        "colab": {
          "base_uri": "https://localhost:8080/",
          "height": 676
        },
        "id": "t-Gx0CX0wH3A",
        "outputId": "780f1fda-6a32-4950-aa02-75012592d084"
      },
      "execution_count": 124,
      "outputs": [
        {
          "output_type": "execute_result",
          "data": {
            "text/plain": [
              "      unique genres\n",
              "0         Adventure\n",
              "1            Family\n",
              "2       Documentary\n",
              "3            Action\n",
              "4           History\n",
              "5            Horror\n",
              "6             Music\n",
              "7             Drama\n",
              "8           Foreign\n",
              "9          TV Movie\n",
              "10          Romance\n",
              "11            Crime\n",
              "12              War\n",
              "13          Western\n",
              "14        Animation\n",
              "15           Comedy\n",
              "16          Fantasy\n",
              "17  Science Fiction\n",
              "18          Mystery\n",
              "19         Thriller"
            ],
            "text/html": [
              "\n",
              "  <div id=\"df-cc13ea6d-1e87-4763-a631-e9da5519f136\">\n",
              "    <div class=\"colab-df-container\">\n",
              "      <div>\n",
              "<style scoped>\n",
              "    .dataframe tbody tr th:only-of-type {\n",
              "        vertical-align: middle;\n",
              "    }\n",
              "\n",
              "    .dataframe tbody tr th {\n",
              "        vertical-align: top;\n",
              "    }\n",
              "\n",
              "    .dataframe thead th {\n",
              "        text-align: right;\n",
              "    }\n",
              "</style>\n",
              "<table border=\"1\" class=\"dataframe\">\n",
              "  <thead>\n",
              "    <tr style=\"text-align: right;\">\n",
              "      <th></th>\n",
              "      <th>unique genres</th>\n",
              "    </tr>\n",
              "  </thead>\n",
              "  <tbody>\n",
              "    <tr>\n",
              "      <th>0</th>\n",
              "      <td>Adventure</td>\n",
              "    </tr>\n",
              "    <tr>\n",
              "      <th>1</th>\n",
              "      <td>Family</td>\n",
              "    </tr>\n",
              "    <tr>\n",
              "      <th>2</th>\n",
              "      <td>Documentary</td>\n",
              "    </tr>\n",
              "    <tr>\n",
              "      <th>3</th>\n",
              "      <td>Action</td>\n",
              "    </tr>\n",
              "    <tr>\n",
              "      <th>4</th>\n",
              "      <td>History</td>\n",
              "    </tr>\n",
              "    <tr>\n",
              "      <th>5</th>\n",
              "      <td>Horror</td>\n",
              "    </tr>\n",
              "    <tr>\n",
              "      <th>6</th>\n",
              "      <td>Music</td>\n",
              "    </tr>\n",
              "    <tr>\n",
              "      <th>7</th>\n",
              "      <td>Drama</td>\n",
              "    </tr>\n",
              "    <tr>\n",
              "      <th>8</th>\n",
              "      <td>Foreign</td>\n",
              "    </tr>\n",
              "    <tr>\n",
              "      <th>9</th>\n",
              "      <td>TV Movie</td>\n",
              "    </tr>\n",
              "    <tr>\n",
              "      <th>10</th>\n",
              "      <td>Romance</td>\n",
              "    </tr>\n",
              "    <tr>\n",
              "      <th>11</th>\n",
              "      <td>Crime</td>\n",
              "    </tr>\n",
              "    <tr>\n",
              "      <th>12</th>\n",
              "      <td>War</td>\n",
              "    </tr>\n",
              "    <tr>\n",
              "      <th>13</th>\n",
              "      <td>Western</td>\n",
              "    </tr>\n",
              "    <tr>\n",
              "      <th>14</th>\n",
              "      <td>Animation</td>\n",
              "    </tr>\n",
              "    <tr>\n",
              "      <th>15</th>\n",
              "      <td>Comedy</td>\n",
              "    </tr>\n",
              "    <tr>\n",
              "      <th>16</th>\n",
              "      <td>Fantasy</td>\n",
              "    </tr>\n",
              "    <tr>\n",
              "      <th>17</th>\n",
              "      <td>Science Fiction</td>\n",
              "    </tr>\n",
              "    <tr>\n",
              "      <th>18</th>\n",
              "      <td>Mystery</td>\n",
              "    </tr>\n",
              "    <tr>\n",
              "      <th>19</th>\n",
              "      <td>Thriller</td>\n",
              "    </tr>\n",
              "  </tbody>\n",
              "</table>\n",
              "</div>\n",
              "      <button class=\"colab-df-convert\" onclick=\"convertToInteractive('df-cc13ea6d-1e87-4763-a631-e9da5519f136')\"\n",
              "              title=\"Convert this dataframe to an interactive table.\"\n",
              "              style=\"display:none;\">\n",
              "        \n",
              "  <svg xmlns=\"http://www.w3.org/2000/svg\" height=\"24px\"viewBox=\"0 0 24 24\"\n",
              "       width=\"24px\">\n",
              "    <path d=\"M0 0h24v24H0V0z\" fill=\"none\"/>\n",
              "    <path d=\"M18.56 5.44l.94 2.06.94-2.06 2.06-.94-2.06-.94-.94-2.06-.94 2.06-2.06.94zm-11 1L8.5 8.5l.94-2.06 2.06-.94-2.06-.94L8.5 2.5l-.94 2.06-2.06.94zm10 10l.94 2.06.94-2.06 2.06-.94-2.06-.94-.94-2.06-.94 2.06-2.06.94z\"/><path d=\"M17.41 7.96l-1.37-1.37c-.4-.4-.92-.59-1.43-.59-.52 0-1.04.2-1.43.59L10.3 9.45l-7.72 7.72c-.78.78-.78 2.05 0 2.83L4 21.41c.39.39.9.59 1.41.59.51 0 1.02-.2 1.41-.59l7.78-7.78 2.81-2.81c.8-.78.8-2.07 0-2.86zM5.41 20L4 18.59l7.72-7.72 1.47 1.35L5.41 20z\"/>\n",
              "  </svg>\n",
              "      </button>\n",
              "      \n",
              "  <style>\n",
              "    .colab-df-container {\n",
              "      display:flex;\n",
              "      flex-wrap:wrap;\n",
              "      gap: 12px;\n",
              "    }\n",
              "\n",
              "    .colab-df-convert {\n",
              "      background-color: #E8F0FE;\n",
              "      border: none;\n",
              "      border-radius: 50%;\n",
              "      cursor: pointer;\n",
              "      display: none;\n",
              "      fill: #1967D2;\n",
              "      height: 32px;\n",
              "      padding: 0 0 0 0;\n",
              "      width: 32px;\n",
              "    }\n",
              "\n",
              "    .colab-df-convert:hover {\n",
              "      background-color: #E2EBFA;\n",
              "      box-shadow: 0px 1px 2px rgba(60, 64, 67, 0.3), 0px 1px 3px 1px rgba(60, 64, 67, 0.15);\n",
              "      fill: #174EA6;\n",
              "    }\n",
              "\n",
              "    [theme=dark] .colab-df-convert {\n",
              "      background-color: #3B4455;\n",
              "      fill: #D2E3FC;\n",
              "    }\n",
              "\n",
              "    [theme=dark] .colab-df-convert:hover {\n",
              "      background-color: #434B5C;\n",
              "      box-shadow: 0px 1px 3px 1px rgba(0, 0, 0, 0.15);\n",
              "      filter: drop-shadow(0px 1px 2px rgba(0, 0, 0, 0.3));\n",
              "      fill: #FFFFFF;\n",
              "    }\n",
              "  </style>\n",
              "\n",
              "      <script>\n",
              "        const buttonEl =\n",
              "          document.querySelector('#df-cc13ea6d-1e87-4763-a631-e9da5519f136 button.colab-df-convert');\n",
              "        buttonEl.style.display =\n",
              "          google.colab.kernel.accessAllowed ? 'block' : 'none';\n",
              "\n",
              "        async function convertToInteractive(key) {\n",
              "          const element = document.querySelector('#df-cc13ea6d-1e87-4763-a631-e9da5519f136');\n",
              "          const dataTable =\n",
              "            await google.colab.kernel.invokeFunction('convertToInteractive',\n",
              "                                                     [key], {});\n",
              "          if (!dataTable) return;\n",
              "\n",
              "          const docLinkHtml = 'Like what you see? Visit the ' +\n",
              "            '<a target=\"_blank\" href=https://colab.research.google.com/notebooks/data_table.ipynb>data table notebook</a>'\n",
              "            + ' to learn more about interactive tables.';\n",
              "          element.innerHTML = '';\n",
              "          dataTable['output_type'] = 'display_data';\n",
              "          await google.colab.output.renderOutput(dataTable, element);\n",
              "          const docLink = document.createElement('div');\n",
              "          docLink.innerHTML = docLinkHtml;\n",
              "          element.appendChild(docLink);\n",
              "        }\n",
              "      </script>\n",
              "    </div>\n",
              "  </div>\n",
              "  "
            ]
          },
          "metadata": {},
          "execution_count": 124
        }
      ]
    },
    {
      "cell_type": "markdown",
      "source": [
        "4. ### <b> Make a table of all the producers and directors of each movie. Find the top 3 producers who have produced movies with the highest average RoI? </b>"
      ],
      "metadata": {
        "id": "rDTTD0uawhXr"
      }
    },
    {
      "cell_type": "code",
      "source": [
        "df.info()"
      ],
      "metadata": {
        "colab": {
          "base_uri": "https://localhost:8080/"
        },
        "id": "k4Xh9lsRyi_h",
        "outputId": "efac0653-a6b4-4b77-e41e-08205994b442"
      },
      "execution_count": 128,
      "outputs": [
        {
          "output_type": "stream",
          "name": "stdout",
          "text": [
            "<class 'pandas.core.frame.DataFrame'>\n",
            "RangeIndex: 3000 entries, 0 to 2999\n",
            "Data columns (total 9 columns):\n",
            " #   Column             Non-Null Count  Dtype  \n",
            "---  ------             --------------  -----  \n",
            " 0   budget             3000 non-null   int64  \n",
            " 1   genres             2993 non-null   object \n",
            " 2   original_language  3000 non-null   object \n",
            " 3   original_title     3000 non-null   object \n",
            " 4   cast               2987 non-null   object \n",
            " 5   crew               2984 non-null   object \n",
            " 6   revenue            3000 non-null   int64  \n",
            " 7   profit             3000 non-null   int64  \n",
            " 8   roi                3000 non-null   float64\n",
            "dtypes: float64(1), int64(3), object(5)\n",
            "memory usage: 211.1+ KB\n"
          ]
        }
      ]
    },
    {
      "cell_type": "code",
      "source": [
        "no_null_crew = df[~df['crew'].isna()]"
      ],
      "metadata": {
        "id": "q1vPLRN1yqpO"
      },
      "execution_count": 129,
      "outputs": []
    },
    {
      "cell_type": "code",
      "source": [
        "def get_producer(index):\n",
        "  movie_row = no_null_crew.iloc[index]\n",
        "  crew_list = movie_row.loc['crew']\n",
        "\n",
        "  producer_list = []\n",
        "  for el in crew_list:\n",
        "    if el['job']=='Producer':\n",
        "      producer_list.append(el['name'])\n",
        "  return producer_list"
      ],
      "metadata": {
        "id": "BanYh70m6nRE"
      },
      "execution_count": 151,
      "outputs": []
    },
    {
      "cell_type": "code",
      "source": [
        "def get_director(index):\n",
        "  movie_row = no_null_crew.iloc[index]\n",
        "  cast_list = movie_row['crew']\n",
        "\n",
        "  for N in cast_list:\n",
        "    if N['job']=='Director':ta\n",
        "      return N['name']"
      ],
      "metadata": {
        "id": "EjYHZJVF-ToL"
      },
      "execution_count": 172,
      "outputs": []
    },
    {
      "cell_type": "code",
      "source": [
        "table = pd.DataFrame(columns=['Movie Title','Producer','Director','roi'])"
      ],
      "metadata": {
        "id": "YGc2Yp0X_JGT"
      },
      "execution_count": 207,
      "outputs": []
    },
    {
      "cell_type": "code",
      "source": [
        "for index,row in no_null_crew.iterrows():\n",
        "  try:\n",
        "    table = table.append({'Movie Title':no_null_crew.loc[index,'original_language'],'Producer':get_producer(index),'Director':get_director(index),'roi':no_null_crew.loc[index,'roi']},ignore_index=True)\n",
        "\n",
        "  except:\n",
        "    continue"
      ],
      "metadata": {
        "id": "LQHJZpKB_bZm"
      },
      "execution_count": null,
      "outputs": []
    },
    {
      "cell_type": "code",
      "source": [
        "table.sort_values(by='roi',ascending = False).head()"
      ],
      "metadata": {
        "colab": {
          "base_uri": "https://localhost:8080/",
          "height": 206
        },
        "id": "UIPHRXSQA_J5",
        "outputId": "8828935d-c6ba-4463-b4ae-59cd381cfa42"
      },
      "execution_count": 179,
      "outputs": [
        {
          "output_type": "execute_result",
          "data": {
            "text/plain": [
              "     Movie Title                                           Producer  \\\n",
              "1225          en  [Nick Wechsler, Massy Tadjedin, Sidonie Dumas,...   \n",
              "1672          en                                     [Howard Hawks]   \n",
              "2597          ko  [Jason Blum, Edward H. Hamm Jr. \\t, Sean McKit...   \n",
              "1885          en    [Brian Benson, Jacob Kornbluth, Josh Kornbluth]   \n",
              "814           en  [Eli Roth, Peter Phok, Molly Conners, Christop...   \n",
              "\n",
              "             Director         roi  \n",
              "1225   Massy Tadjedin 1288938.67%  \n",
              "1672     Howard Hawks  413233.33%  \n",
              "2597     Jordan Peele  221568.98%  \n",
              "1885  Jacob Kornbluth   49900.00%  \n",
              "814           Ti West   21900.00%  "
            ],
            "text/html": [
              "\n",
              "  <div id=\"df-d37b265b-60db-430c-b2eb-e77c5e586bdc\">\n",
              "    <div class=\"colab-df-container\">\n",
              "      <div>\n",
              "<style scoped>\n",
              "    .dataframe tbody tr th:only-of-type {\n",
              "        vertical-align: middle;\n",
              "    }\n",
              "\n",
              "    .dataframe tbody tr th {\n",
              "        vertical-align: top;\n",
              "    }\n",
              "\n",
              "    .dataframe thead th {\n",
              "        text-align: right;\n",
              "    }\n",
              "</style>\n",
              "<table border=\"1\" class=\"dataframe\">\n",
              "  <thead>\n",
              "    <tr style=\"text-align: right;\">\n",
              "      <th></th>\n",
              "      <th>Movie Title</th>\n",
              "      <th>Producer</th>\n",
              "      <th>Director</th>\n",
              "      <th>roi</th>\n",
              "    </tr>\n",
              "  </thead>\n",
              "  <tbody>\n",
              "    <tr>\n",
              "      <th>1225</th>\n",
              "      <td>en</td>\n",
              "      <td>[Nick Wechsler, Massy Tadjedin, Sidonie Dumas,...</td>\n",
              "      <td>Massy Tadjedin</td>\n",
              "      <td>1288938.67%</td>\n",
              "    </tr>\n",
              "    <tr>\n",
              "      <th>1672</th>\n",
              "      <td>en</td>\n",
              "      <td>[Howard Hawks]</td>\n",
              "      <td>Howard Hawks</td>\n",
              "      <td>413233.33%</td>\n",
              "    </tr>\n",
              "    <tr>\n",
              "      <th>2597</th>\n",
              "      <td>ko</td>\n",
              "      <td>[Jason Blum, Edward H. Hamm Jr. \\t, Sean McKit...</td>\n",
              "      <td>Jordan Peele</td>\n",
              "      <td>221568.98%</td>\n",
              "    </tr>\n",
              "    <tr>\n",
              "      <th>1885</th>\n",
              "      <td>en</td>\n",
              "      <td>[Brian Benson, Jacob Kornbluth, Josh Kornbluth]</td>\n",
              "      <td>Jacob Kornbluth</td>\n",
              "      <td>49900.00%</td>\n",
              "    </tr>\n",
              "    <tr>\n",
              "      <th>814</th>\n",
              "      <td>en</td>\n",
              "      <td>[Eli Roth, Peter Phok, Molly Conners, Christop...</td>\n",
              "      <td>Ti West</td>\n",
              "      <td>21900.00%</td>\n",
              "    </tr>\n",
              "  </tbody>\n",
              "</table>\n",
              "</div>\n",
              "      <button class=\"colab-df-convert\" onclick=\"convertToInteractive('df-d37b265b-60db-430c-b2eb-e77c5e586bdc')\"\n",
              "              title=\"Convert this dataframe to an interactive table.\"\n",
              "              style=\"display:none;\">\n",
              "        \n",
              "  <svg xmlns=\"http://www.w3.org/2000/svg\" height=\"24px\"viewBox=\"0 0 24 24\"\n",
              "       width=\"24px\">\n",
              "    <path d=\"M0 0h24v24H0V0z\" fill=\"none\"/>\n",
              "    <path d=\"M18.56 5.44l.94 2.06.94-2.06 2.06-.94-2.06-.94-.94-2.06-.94 2.06-2.06.94zm-11 1L8.5 8.5l.94-2.06 2.06-.94-2.06-.94L8.5 2.5l-.94 2.06-2.06.94zm10 10l.94 2.06.94-2.06 2.06-.94-2.06-.94-.94-2.06-.94 2.06-2.06.94z\"/><path d=\"M17.41 7.96l-1.37-1.37c-.4-.4-.92-.59-1.43-.59-.52 0-1.04.2-1.43.59L10.3 9.45l-7.72 7.72c-.78.78-.78 2.05 0 2.83L4 21.41c.39.39.9.59 1.41.59.51 0 1.02-.2 1.41-.59l7.78-7.78 2.81-2.81c.8-.78.8-2.07 0-2.86zM5.41 20L4 18.59l7.72-7.72 1.47 1.35L5.41 20z\"/>\n",
              "  </svg>\n",
              "      </button>\n",
              "      \n",
              "  <style>\n",
              "    .colab-df-container {\n",
              "      display:flex;\n",
              "      flex-wrap:wrap;\n",
              "      gap: 12px;\n",
              "    }\n",
              "\n",
              "    .colab-df-convert {\n",
              "      background-color: #E8F0FE;\n",
              "      border: none;\n",
              "      border-radius: 50%;\n",
              "      cursor: pointer;\n",
              "      display: none;\n",
              "      fill: #1967D2;\n",
              "      height: 32px;\n",
              "      padding: 0 0 0 0;\n",
              "      width: 32px;\n",
              "    }\n",
              "\n",
              "    .colab-df-convert:hover {\n",
              "      background-color: #E2EBFA;\n",
              "      box-shadow: 0px 1px 2px rgba(60, 64, 67, 0.3), 0px 1px 3px 1px rgba(60, 64, 67, 0.15);\n",
              "      fill: #174EA6;\n",
              "    }\n",
              "\n",
              "    [theme=dark] .colab-df-convert {\n",
              "      background-color: #3B4455;\n",
              "      fill: #D2E3FC;\n",
              "    }\n",
              "\n",
              "    [theme=dark] .colab-df-convert:hover {\n",
              "      background-color: #434B5C;\n",
              "      box-shadow: 0px 1px 3px 1px rgba(0, 0, 0, 0.15);\n",
              "      filter: drop-shadow(0px 1px 2px rgba(0, 0, 0, 0.3));\n",
              "      fill: #FFFFFF;\n",
              "    }\n",
              "  </style>\n",
              "\n",
              "      <script>\n",
              "        const buttonEl =\n",
              "          document.querySelector('#df-d37b265b-60db-430c-b2eb-e77c5e586bdc button.colab-df-convert');\n",
              "        buttonEl.style.display =\n",
              "          google.colab.kernel.accessAllowed ? 'block' : 'none';\n",
              "\n",
              "        async function convertToInteractive(key) {\n",
              "          const element = document.querySelector('#df-d37b265b-60db-430c-b2eb-e77c5e586bdc');\n",
              "          const dataTable =\n",
              "            await google.colab.kernel.invokeFunction('convertToInteractive',\n",
              "                                                     [key], {});\n",
              "          if (!dataTable) return;\n",
              "\n",
              "          const docLinkHtml = 'Like what you see? Visit the ' +\n",
              "            '<a target=\"_blank\" href=https://colab.research.google.com/notebooks/data_table.ipynb>data table notebook</a>'\n",
              "            + ' to learn more about interactive tables.';\n",
              "          element.innerHTML = '';\n",
              "          dataTable['output_type'] = 'display_data';\n",
              "          await google.colab.output.renderOutput(dataTable, element);\n",
              "          const docLink = document.createElement('div');\n",
              "          docLink.innerHTML = docLinkHtml;\n",
              "          element.appendChild(docLink);\n",
              "        }\n",
              "      </script>\n",
              "    </div>\n",
              "  </div>\n",
              "  "
            ]
          },
          "metadata": {},
          "execution_count": 179
        }
      ]
    },
    {
      "cell_type": "markdown",
      "source": [
        "5. ### <b> Which actor has acted in the most number of movies? Deep dive into the movies, genres and profits corresponding to this actor. </b>"
      ],
      "metadata": {
        "id": "WrKOB56kBsMb"
      }
    },
    {
      "cell_type": "code",
      "source": [
        "no_null_cast = df[~df['cast'].isna()]"
      ],
      "metadata": {
        "id": "Ah6inwFbCTFM"
      },
      "execution_count": 180,
      "outputs": []
    },
    {
      "cell_type": "code",
      "source": [
        "actor = []\n",
        "for i in no_null_cast['cast']:\n",
        "  for G in i:\n",
        "    actor.append(G['name'])"
      ],
      "metadata": {
        "id": "qiRZk-_lBrgd"
      },
      "execution_count": 182,
      "outputs": []
    },
    {
      "cell_type": "code",
      "source": [
        "actor_tabel = pd.DataFrame(actor,columns=['Actors Name'])"
      ],
      "metadata": {
        "id": "1ZO9Ols9C5gs"
      },
      "execution_count": 185,
      "outputs": []
    },
    {
      "cell_type": "code",
      "source": [
        "actor_tabel.head()"
      ],
      "metadata": {
        "colab": {
          "base_uri": "https://localhost:8080/",
          "height": 206
        },
        "id": "ySlXqpOlDal1",
        "outputId": "86c6bfcd-e714-4694-fb3c-83c438723da1"
      },
      "execution_count": 186,
      "outputs": [
        {
          "output_type": "execute_result",
          "data": {
            "text/plain": [
              "      Actors Name\n",
              "0     Rob Corddry\n",
              "1  Craig Robinson\n",
              "2      Clark Duke\n",
              "3      Adam Scott\n",
              "4     Chevy Chase"
            ],
            "text/html": [
              "\n",
              "  <div id=\"df-5b2f4598-75f3-44ee-830e-62d929e6695a\">\n",
              "    <div class=\"colab-df-container\">\n",
              "      <div>\n",
              "<style scoped>\n",
              "    .dataframe tbody tr th:only-of-type {\n",
              "        vertical-align: middle;\n",
              "    }\n",
              "\n",
              "    .dataframe tbody tr th {\n",
              "        vertical-align: top;\n",
              "    }\n",
              "\n",
              "    .dataframe thead th {\n",
              "        text-align: right;\n",
              "    }\n",
              "</style>\n",
              "<table border=\"1\" class=\"dataframe\">\n",
              "  <thead>\n",
              "    <tr style=\"text-align: right;\">\n",
              "      <th></th>\n",
              "      <th>Actors Name</th>\n",
              "    </tr>\n",
              "  </thead>\n",
              "  <tbody>\n",
              "    <tr>\n",
              "      <th>0</th>\n",
              "      <td>Rob Corddry</td>\n",
              "    </tr>\n",
              "    <tr>\n",
              "      <th>1</th>\n",
              "      <td>Craig Robinson</td>\n",
              "    </tr>\n",
              "    <tr>\n",
              "      <th>2</th>\n",
              "      <td>Clark Duke</td>\n",
              "    </tr>\n",
              "    <tr>\n",
              "      <th>3</th>\n",
              "      <td>Adam Scott</td>\n",
              "    </tr>\n",
              "    <tr>\n",
              "      <th>4</th>\n",
              "      <td>Chevy Chase</td>\n",
              "    </tr>\n",
              "  </tbody>\n",
              "</table>\n",
              "</div>\n",
              "      <button class=\"colab-df-convert\" onclick=\"convertToInteractive('df-5b2f4598-75f3-44ee-830e-62d929e6695a')\"\n",
              "              title=\"Convert this dataframe to an interactive table.\"\n",
              "              style=\"display:none;\">\n",
              "        \n",
              "  <svg xmlns=\"http://www.w3.org/2000/svg\" height=\"24px\"viewBox=\"0 0 24 24\"\n",
              "       width=\"24px\">\n",
              "    <path d=\"M0 0h24v24H0V0z\" fill=\"none\"/>\n",
              "    <path d=\"M18.56 5.44l.94 2.06.94-2.06 2.06-.94-2.06-.94-.94-2.06-.94 2.06-2.06.94zm-11 1L8.5 8.5l.94-2.06 2.06-.94-2.06-.94L8.5 2.5l-.94 2.06-2.06.94zm10 10l.94 2.06.94-2.06 2.06-.94-2.06-.94-.94-2.06-.94 2.06-2.06.94z\"/><path d=\"M17.41 7.96l-1.37-1.37c-.4-.4-.92-.59-1.43-.59-.52 0-1.04.2-1.43.59L10.3 9.45l-7.72 7.72c-.78.78-.78 2.05 0 2.83L4 21.41c.39.39.9.59 1.41.59.51 0 1.02-.2 1.41-.59l7.78-7.78 2.81-2.81c.8-.78.8-2.07 0-2.86zM5.41 20L4 18.59l7.72-7.72 1.47 1.35L5.41 20z\"/>\n",
              "  </svg>\n",
              "      </button>\n",
              "      \n",
              "  <style>\n",
              "    .colab-df-container {\n",
              "      display:flex;\n",
              "      flex-wrap:wrap;\n",
              "      gap: 12px;\n",
              "    }\n",
              "\n",
              "    .colab-df-convert {\n",
              "      background-color: #E8F0FE;\n",
              "      border: none;\n",
              "      border-radius: 50%;\n",
              "      cursor: pointer;\n",
              "      display: none;\n",
              "      fill: #1967D2;\n",
              "      height: 32px;\n",
              "      padding: 0 0 0 0;\n",
              "      width: 32px;\n",
              "    }\n",
              "\n",
              "    .colab-df-convert:hover {\n",
              "      background-color: #E2EBFA;\n",
              "      box-shadow: 0px 1px 2px rgba(60, 64, 67, 0.3), 0px 1px 3px 1px rgba(60, 64, 67, 0.15);\n",
              "      fill: #174EA6;\n",
              "    }\n",
              "\n",
              "    [theme=dark] .colab-df-convert {\n",
              "      background-color: #3B4455;\n",
              "      fill: #D2E3FC;\n",
              "    }\n",
              "\n",
              "    [theme=dark] .colab-df-convert:hover {\n",
              "      background-color: #434B5C;\n",
              "      box-shadow: 0px 1px 3px 1px rgba(0, 0, 0, 0.15);\n",
              "      filter: drop-shadow(0px 1px 2px rgba(0, 0, 0, 0.3));\n",
              "      fill: #FFFFFF;\n",
              "    }\n",
              "  </style>\n",
              "\n",
              "      <script>\n",
              "        const buttonEl =\n",
              "          document.querySelector('#df-5b2f4598-75f3-44ee-830e-62d929e6695a button.colab-df-convert');\n",
              "        buttonEl.style.display =\n",
              "          google.colab.kernel.accessAllowed ? 'block' : 'none';\n",
              "\n",
              "        async function convertToInteractive(key) {\n",
              "          const element = document.querySelector('#df-5b2f4598-75f3-44ee-830e-62d929e6695a');\n",
              "          const dataTable =\n",
              "            await google.colab.kernel.invokeFunction('convertToInteractive',\n",
              "                                                     [key], {});\n",
              "          if (!dataTable) return;\n",
              "\n",
              "          const docLinkHtml = 'Like what you see? Visit the ' +\n",
              "            '<a target=\"_blank\" href=https://colab.research.google.com/notebooks/data_table.ipynb>data table notebook</a>'\n",
              "            + ' to learn more about interactive tables.';\n",
              "          element.innerHTML = '';\n",
              "          dataTable['output_type'] = 'display_data';\n",
              "          await google.colab.output.renderOutput(dataTable, element);\n",
              "          const docLink = document.createElement('div');\n",
              "          docLink.innerHTML = docLinkHtml;\n",
              "          element.appendChild(docLink);\n",
              "        }\n",
              "      </script>\n",
              "    </div>\n",
              "  </div>\n",
              "  "
            ]
          },
          "metadata": {},
          "execution_count": 186
        }
      ]
    },
    {
      "cell_type": "code",
      "source": [
        "actor_tabel.value_counts().reset_index().head()"
      ],
      "metadata": {
        "colab": {
          "base_uri": "https://localhost:8080/",
          "height": 206
        },
        "id": "qGRNEqv1DhxR",
        "outputId": "0272dd3b-ac87-4e31-d120-6246e6189552"
      },
      "execution_count": 189,
      "outputs": [
        {
          "output_type": "execute_result",
          "data": {
            "text/plain": [
              "         Actors Name   0\n",
              "0  Samuel L. Jackson  30\n",
              "1     Robert De Niro  30\n",
              "2     Morgan Freeman  27\n",
              "3        Liam Neeson  25\n",
              "4     Susan Sarandon  25"
            ],
            "text/html": [
              "\n",
              "  <div id=\"df-6dfeca6c-e5a0-4ab5-a583-13fc5687c465\">\n",
              "    <div class=\"colab-df-container\">\n",
              "      <div>\n",
              "<style scoped>\n",
              "    .dataframe tbody tr th:only-of-type {\n",
              "        vertical-align: middle;\n",
              "    }\n",
              "\n",
              "    .dataframe tbody tr th {\n",
              "        vertical-align: top;\n",
              "    }\n",
              "\n",
              "    .dataframe thead th {\n",
              "        text-align: right;\n",
              "    }\n",
              "</style>\n",
              "<table border=\"1\" class=\"dataframe\">\n",
              "  <thead>\n",
              "    <tr style=\"text-align: right;\">\n",
              "      <th></th>\n",
              "      <th>Actors Name</th>\n",
              "      <th>0</th>\n",
              "    </tr>\n",
              "  </thead>\n",
              "  <tbody>\n",
              "    <tr>\n",
              "      <th>0</th>\n",
              "      <td>Samuel L. Jackson</td>\n",
              "      <td>30</td>\n",
              "    </tr>\n",
              "    <tr>\n",
              "      <th>1</th>\n",
              "      <td>Robert De Niro</td>\n",
              "      <td>30</td>\n",
              "    </tr>\n",
              "    <tr>\n",
              "      <th>2</th>\n",
              "      <td>Morgan Freeman</td>\n",
              "      <td>27</td>\n",
              "    </tr>\n",
              "    <tr>\n",
              "      <th>3</th>\n",
              "      <td>Liam Neeson</td>\n",
              "      <td>25</td>\n",
              "    </tr>\n",
              "    <tr>\n",
              "      <th>4</th>\n",
              "      <td>Susan Sarandon</td>\n",
              "      <td>25</td>\n",
              "    </tr>\n",
              "  </tbody>\n",
              "</table>\n",
              "</div>\n",
              "      <button class=\"colab-df-convert\" onclick=\"convertToInteractive('df-6dfeca6c-e5a0-4ab5-a583-13fc5687c465')\"\n",
              "              title=\"Convert this dataframe to an interactive table.\"\n",
              "              style=\"display:none;\">\n",
              "        \n",
              "  <svg xmlns=\"http://www.w3.org/2000/svg\" height=\"24px\"viewBox=\"0 0 24 24\"\n",
              "       width=\"24px\">\n",
              "    <path d=\"M0 0h24v24H0V0z\" fill=\"none\"/>\n",
              "    <path d=\"M18.56 5.44l.94 2.06.94-2.06 2.06-.94-2.06-.94-.94-2.06-.94 2.06-2.06.94zm-11 1L8.5 8.5l.94-2.06 2.06-.94-2.06-.94L8.5 2.5l-.94 2.06-2.06.94zm10 10l.94 2.06.94-2.06 2.06-.94-2.06-.94-.94-2.06-.94 2.06-2.06.94z\"/><path d=\"M17.41 7.96l-1.37-1.37c-.4-.4-.92-.59-1.43-.59-.52 0-1.04.2-1.43.59L10.3 9.45l-7.72 7.72c-.78.78-.78 2.05 0 2.83L4 21.41c.39.39.9.59 1.41.59.51 0 1.02-.2 1.41-.59l7.78-7.78 2.81-2.81c.8-.78.8-2.07 0-2.86zM5.41 20L4 18.59l7.72-7.72 1.47 1.35L5.41 20z\"/>\n",
              "  </svg>\n",
              "      </button>\n",
              "      \n",
              "  <style>\n",
              "    .colab-df-container {\n",
              "      display:flex;\n",
              "      flex-wrap:wrap;\n",
              "      gap: 12px;\n",
              "    }\n",
              "\n",
              "    .colab-df-convert {\n",
              "      background-color: #E8F0FE;\n",
              "      border: none;\n",
              "      border-radius: 50%;\n",
              "      cursor: pointer;\n",
              "      display: none;\n",
              "      fill: #1967D2;\n",
              "      height: 32px;\n",
              "      padding: 0 0 0 0;\n",
              "      width: 32px;\n",
              "    }\n",
              "\n",
              "    .colab-df-convert:hover {\n",
              "      background-color: #E2EBFA;\n",
              "      box-shadow: 0px 1px 2px rgba(60, 64, 67, 0.3), 0px 1px 3px 1px rgba(60, 64, 67, 0.15);\n",
              "      fill: #174EA6;\n",
              "    }\n",
              "\n",
              "    [theme=dark] .colab-df-convert {\n",
              "      background-color: #3B4455;\n",
              "      fill: #D2E3FC;\n",
              "    }\n",
              "\n",
              "    [theme=dark] .colab-df-convert:hover {\n",
              "      background-color: #434B5C;\n",
              "      box-shadow: 0px 1px 3px 1px rgba(0, 0, 0, 0.15);\n",
              "      filter: drop-shadow(0px 1px 2px rgba(0, 0, 0, 0.3));\n",
              "      fill: #FFFFFF;\n",
              "    }\n",
              "  </style>\n",
              "\n",
              "      <script>\n",
              "        const buttonEl =\n",
              "          document.querySelector('#df-6dfeca6c-e5a0-4ab5-a583-13fc5687c465 button.colab-df-convert');\n",
              "        buttonEl.style.display =\n",
              "          google.colab.kernel.accessAllowed ? 'block' : 'none';\n",
              "\n",
              "        async function convertToInteractive(key) {\n",
              "          const element = document.querySelector('#df-6dfeca6c-e5a0-4ab5-a583-13fc5687c465');\n",
              "          const dataTable =\n",
              "            await google.colab.kernel.invokeFunction('convertToInteractive',\n",
              "                                                     [key], {});\n",
              "          if (!dataTable) return;\n",
              "\n",
              "          const docLinkHtml = 'Like what you see? Visit the ' +\n",
              "            '<a target=\"_blank\" href=https://colab.research.google.com/notebooks/data_table.ipynb>data table notebook</a>'\n",
              "            + ' to learn more about interactive tables.';\n",
              "          element.innerHTML = '';\n",
              "          dataTable['output_type'] = 'display_data';\n",
              "          await google.colab.output.renderOutput(dataTable, element);\n",
              "          const docLink = document.createElement('div');\n",
              "          docLink.innerHTML = docLinkHtml;\n",
              "          element.appendChild(docLink);\n",
              "        }\n",
              "      </script>\n",
              "    </div>\n",
              "  </div>\n",
              "  "
            ]
          },
          "metadata": {},
          "execution_count": 189
        }
      ]
    },
    {
      "cell_type": "code",
      "source": [
        "profit_S = []\n",
        "profit_R = []\n",
        "movie_S = []\n",
        "movie_R = []\n",
        "genre_S = []\n",
        "genre_R = []\n",
        "\n",
        "for index,row in no_null_cast.iterrows():\n",
        "  for iter in no_null_cast.loc[index,'cast']:\n",
        "    if type(iter) == dict:\n",
        "      actor = iter['name']\n",
        "      if 'Samuel L. Jackson' in actor:\n",
        "        profit_S.append(no_null_cast.loc[index,'profit'])\n",
        "        movie_S.append(no_null_cast.loc[index,'original_title'])\n",
        "        for G in no_null_genres.loc[index,'genres']:\n",
        "          genre_S.append(G['name'])\n",
        "\n",
        "\n",
        "\n",
        "\n",
        "      if 'Robert De Niro' in actor:\n",
        "        profit_R.append(no_null_cast.loc[index,'profit'])\n",
        "        movie_R.append(no_null_cast.loc[index,'original_title'])\n",
        "        for G1 in no_null_genres.loc[index,'genres']:\n",
        "          genre_R.append(G1['name'])"
      ],
      "metadata": {
        "id": "5zKZv5rDEEYN"
      },
      "execution_count": 192,
      "outputs": []
    },
    {
      "cell_type": "code",
      "source": [
        "p_s = pd.DataFrame(profit_S,columns=['Movie_Profit'])\n",
        "m_s = pd.DataFrame(movie_S,columns=['Movie_Name'])\n",
        "r_s = pd.DataFrame(genre_S,columns=['Genre'])"
      ],
      "metadata": {
        "id": "1vcsEZxHTiPo"
      },
      "execution_count": 193,
      "outputs": []
    },
    {
      "cell_type": "code",
      "source": [
        "Robert_De_Niro  = pd.concat([p_s,m_s,r_s],axis=1)"
      ],
      "metadata": {
        "id": "y6AvA8sKS_87"
      },
      "execution_count": 194,
      "outputs": []
    },
    {
      "cell_type": "code",
      "source": [
        "Robert_De_Niro.tail()"
      ],
      "metadata": {
        "colab": {
          "base_uri": "https://localhost:8080/",
          "height": 206
        },
        "id": "TYXesEOAUP8v",
        "outputId": "b0948074-c07a-4901-c23a-d4e0cb55d16d"
      },
      "execution_count": 196,
      "outputs": [
        {
          "output_type": "execute_result",
          "data": {
            "text/plain": [
              "    Movie_Profit Movie_Name     Genre\n",
              "89           NaN        NaN   Mystery\n",
              "90           NaN        NaN     Crime\n",
              "91           NaN        NaN    Action\n",
              "92           NaN        NaN   Mystery\n",
              "93           NaN        NaN  Thriller"
            ],
            "text/html": [
              "\n",
              "  <div id=\"df-1a85a058-b527-43ff-a77a-a6bead0c5985\">\n",
              "    <div class=\"colab-df-container\">\n",
              "      <div>\n",
              "<style scoped>\n",
              "    .dataframe tbody tr th:only-of-type {\n",
              "        vertical-align: middle;\n",
              "    }\n",
              "\n",
              "    .dataframe tbody tr th {\n",
              "        vertical-align: top;\n",
              "    }\n",
              "\n",
              "    .dataframe thead th {\n",
              "        text-align: right;\n",
              "    }\n",
              "</style>\n",
              "<table border=\"1\" class=\"dataframe\">\n",
              "  <thead>\n",
              "    <tr style=\"text-align: right;\">\n",
              "      <th></th>\n",
              "      <th>Movie_Profit</th>\n",
              "      <th>Movie_Name</th>\n",
              "      <th>Genre</th>\n",
              "    </tr>\n",
              "  </thead>\n",
              "  <tbody>\n",
              "    <tr>\n",
              "      <th>89</th>\n",
              "      <td>NaN</td>\n",
              "      <td>NaN</td>\n",
              "      <td>Mystery</td>\n",
              "    </tr>\n",
              "    <tr>\n",
              "      <th>90</th>\n",
              "      <td>NaN</td>\n",
              "      <td>NaN</td>\n",
              "      <td>Crime</td>\n",
              "    </tr>\n",
              "    <tr>\n",
              "      <th>91</th>\n",
              "      <td>NaN</td>\n",
              "      <td>NaN</td>\n",
              "      <td>Action</td>\n",
              "    </tr>\n",
              "    <tr>\n",
              "      <th>92</th>\n",
              "      <td>NaN</td>\n",
              "      <td>NaN</td>\n",
              "      <td>Mystery</td>\n",
              "    </tr>\n",
              "    <tr>\n",
              "      <th>93</th>\n",
              "      <td>NaN</td>\n",
              "      <td>NaN</td>\n",
              "      <td>Thriller</td>\n",
              "    </tr>\n",
              "  </tbody>\n",
              "</table>\n",
              "</div>\n",
              "      <button class=\"colab-df-convert\" onclick=\"convertToInteractive('df-1a85a058-b527-43ff-a77a-a6bead0c5985')\"\n",
              "              title=\"Convert this dataframe to an interactive table.\"\n",
              "              style=\"display:none;\">\n",
              "        \n",
              "  <svg xmlns=\"http://www.w3.org/2000/svg\" height=\"24px\"viewBox=\"0 0 24 24\"\n",
              "       width=\"24px\">\n",
              "    <path d=\"M0 0h24v24H0V0z\" fill=\"none\"/>\n",
              "    <path d=\"M18.56 5.44l.94 2.06.94-2.06 2.06-.94-2.06-.94-.94-2.06-.94 2.06-2.06.94zm-11 1L8.5 8.5l.94-2.06 2.06-.94-2.06-.94L8.5 2.5l-.94 2.06-2.06.94zm10 10l.94 2.06.94-2.06 2.06-.94-2.06-.94-.94-2.06-.94 2.06-2.06.94z\"/><path d=\"M17.41 7.96l-1.37-1.37c-.4-.4-.92-.59-1.43-.59-.52 0-1.04.2-1.43.59L10.3 9.45l-7.72 7.72c-.78.78-.78 2.05 0 2.83L4 21.41c.39.39.9.59 1.41.59.51 0 1.02-.2 1.41-.59l7.78-7.78 2.81-2.81c.8-.78.8-2.07 0-2.86zM5.41 20L4 18.59l7.72-7.72 1.47 1.35L5.41 20z\"/>\n",
              "  </svg>\n",
              "      </button>\n",
              "      \n",
              "  <style>\n",
              "    .colab-df-container {\n",
              "      display:flex;\n",
              "      flex-wrap:wrap;\n",
              "      gap: 12px;\n",
              "    }\n",
              "\n",
              "    .colab-df-convert {\n",
              "      background-color: #E8F0FE;\n",
              "      border: none;\n",
              "      border-radius: 50%;\n",
              "      cursor: pointer;\n",
              "      display: none;\n",
              "      fill: #1967D2;\n",
              "      height: 32px;\n",
              "      padding: 0 0 0 0;\n",
              "      width: 32px;\n",
              "    }\n",
              "\n",
              "    .colab-df-convert:hover {\n",
              "      background-color: #E2EBFA;\n",
              "      box-shadow: 0px 1px 2px rgba(60, 64, 67, 0.3), 0px 1px 3px 1px rgba(60, 64, 67, 0.15);\n",
              "      fill: #174EA6;\n",
              "    }\n",
              "\n",
              "    [theme=dark] .colab-df-convert {\n",
              "      background-color: #3B4455;\n",
              "      fill: #D2E3FC;\n",
              "    }\n",
              "\n",
              "    [theme=dark] .colab-df-convert:hover {\n",
              "      background-color: #434B5C;\n",
              "      box-shadow: 0px 1px 3px 1px rgba(0, 0, 0, 0.15);\n",
              "      filter: drop-shadow(0px 1px 2px rgba(0, 0, 0, 0.3));\n",
              "      fill: #FFFFFF;\n",
              "    }\n",
              "  </style>\n",
              "\n",
              "      <script>\n",
              "        const buttonEl =\n",
              "          document.querySelector('#df-1a85a058-b527-43ff-a77a-a6bead0c5985 button.colab-df-convert');\n",
              "        buttonEl.style.display =\n",
              "          google.colab.kernel.accessAllowed ? 'block' : 'none';\n",
              "\n",
              "        async function convertToInteractive(key) {\n",
              "          const element = document.querySelector('#df-1a85a058-b527-43ff-a77a-a6bead0c5985');\n",
              "          const dataTable =\n",
              "            await google.colab.kernel.invokeFunction('convertToInteractive',\n",
              "                                                     [key], {});\n",
              "          if (!dataTable) return;\n",
              "\n",
              "          const docLinkHtml = 'Like what you see? Visit the ' +\n",
              "            '<a target=\"_blank\" href=https://colab.research.google.com/notebooks/data_table.ipynb>data table notebook</a>'\n",
              "            + ' to learn more about interactive tables.';\n",
              "          element.innerHTML = '';\n",
              "          dataTable['output_type'] = 'display_data';\n",
              "          await google.colab.output.renderOutput(dataTable, element);\n",
              "          const docLink = document.createElement('div');\n",
              "          docLink.innerHTML = docLinkHtml;\n",
              "          element.appendChild(docLink);\n",
              "        }\n",
              "      </script>\n",
              "    </div>\n",
              "  </div>\n",
              "  "
            ]
          },
          "metadata": {},
          "execution_count": 196
        }
      ]
    },
    {
      "cell_type": "code",
      "source": [
        "\n",
        "p_r = pd.DataFrame(profit_R,columns=['Movie_Profit'])\n",
        "m_r = pd.DataFrame(movie_R,columns=['Movie_Name'])\n",
        "r_r = pd.DataFrame(genre_R,columns=['Genre'])"
      ],
      "metadata": {
        "id": "Za3XMcwIUTwk"
      },
      "execution_count": 197,
      "outputs": []
    },
    {
      "cell_type": "code",
      "source": [
        "Samuel_L_Jackson = pd.concat([m_r,r_r,p_r],axis=1)"
      ],
      "metadata": {
        "id": "meunAqKtUl6d"
      },
      "execution_count": 203,
      "outputs": []
    },
    {
      "cell_type": "code",
      "source": [
        "Samuel_L_Jackson.sort_values('Movie_Profit',ascending=False).head()"
      ],
      "metadata": {
        "colab": {
          "base_uri": "https://localhost:8080/",
          "height": 206
        },
        "id": "9I-U9lCzUzVi",
        "outputId": "5cd7f706-af54-4432-ea85-d6852e7e9874"
      },
      "execution_count": 205,
      "outputs": [
        {
          "output_type": "execute_result",
          "data": {
            "text/plain": [
              "          Movie_Name     Genre  Movie_Profit\n",
              "8   Meet the Parents  Thriller 275444045.00%\n",
              "16   American Hustle     Drama 211171807.00%\n",
              "10          Sleepers    Comedy 121615285.00%\n",
              "26      Analyze This     Crime  96885658.00%\n",
              "29         Backdraft     Drama  77368585.00%"
            ],
            "text/html": [
              "\n",
              "  <div id=\"df-28427e2f-4843-4e55-8a4e-3d03359bc5fa\">\n",
              "    <div class=\"colab-df-container\">\n",
              "      <div>\n",
              "<style scoped>\n",
              "    .dataframe tbody tr th:only-of-type {\n",
              "        vertical-align: middle;\n",
              "    }\n",
              "\n",
              "    .dataframe tbody tr th {\n",
              "        vertical-align: top;\n",
              "    }\n",
              "\n",
              "    .dataframe thead th {\n",
              "        text-align: right;\n",
              "    }\n",
              "</style>\n",
              "<table border=\"1\" class=\"dataframe\">\n",
              "  <thead>\n",
              "    <tr style=\"text-align: right;\">\n",
              "      <th></th>\n",
              "      <th>Movie_Name</th>\n",
              "      <th>Genre</th>\n",
              "      <th>Movie_Profit</th>\n",
              "    </tr>\n",
              "  </thead>\n",
              "  <tbody>\n",
              "    <tr>\n",
              "      <th>8</th>\n",
              "      <td>Meet the Parents</td>\n",
              "      <td>Thriller</td>\n",
              "      <td>275444045.00%</td>\n",
              "    </tr>\n",
              "    <tr>\n",
              "      <th>16</th>\n",
              "      <td>American Hustle</td>\n",
              "      <td>Drama</td>\n",
              "      <td>211171807.00%</td>\n",
              "    </tr>\n",
              "    <tr>\n",
              "      <th>10</th>\n",
              "      <td>Sleepers</td>\n",
              "      <td>Comedy</td>\n",
              "      <td>121615285.00%</td>\n",
              "    </tr>\n",
              "    <tr>\n",
              "      <th>26</th>\n",
              "      <td>Analyze This</td>\n",
              "      <td>Crime</td>\n",
              "      <td>96885658.00%</td>\n",
              "    </tr>\n",
              "    <tr>\n",
              "      <th>29</th>\n",
              "      <td>Backdraft</td>\n",
              "      <td>Drama</td>\n",
              "      <td>77368585.00%</td>\n",
              "    </tr>\n",
              "  </tbody>\n",
              "</table>\n",
              "</div>\n",
              "      <button class=\"colab-df-convert\" onclick=\"convertToInteractive('df-28427e2f-4843-4e55-8a4e-3d03359bc5fa')\"\n",
              "              title=\"Convert this dataframe to an interactive table.\"\n",
              "              style=\"display:none;\">\n",
              "        \n",
              "  <svg xmlns=\"http://www.w3.org/2000/svg\" height=\"24px\"viewBox=\"0 0 24 24\"\n",
              "       width=\"24px\">\n",
              "    <path d=\"M0 0h24v24H0V0z\" fill=\"none\"/>\n",
              "    <path d=\"M18.56 5.44l.94 2.06.94-2.06 2.06-.94-2.06-.94-.94-2.06-.94 2.06-2.06.94zm-11 1L8.5 8.5l.94-2.06 2.06-.94-2.06-.94L8.5 2.5l-.94 2.06-2.06.94zm10 10l.94 2.06.94-2.06 2.06-.94-2.06-.94-.94-2.06-.94 2.06-2.06.94z\"/><path d=\"M17.41 7.96l-1.37-1.37c-.4-.4-.92-.59-1.43-.59-.52 0-1.04.2-1.43.59L10.3 9.45l-7.72 7.72c-.78.78-.78 2.05 0 2.83L4 21.41c.39.39.9.59 1.41.59.51 0 1.02-.2 1.41-.59l7.78-7.78 2.81-2.81c.8-.78.8-2.07 0-2.86zM5.41 20L4 18.59l7.72-7.72 1.47 1.35L5.41 20z\"/>\n",
              "  </svg>\n",
              "      </button>\n",
              "      \n",
              "  <style>\n",
              "    .colab-df-container {\n",
              "      display:flex;\n",
              "      flex-wrap:wrap;\n",
              "      gap: 12px;\n",
              "    }\n",
              "\n",
              "    .colab-df-convert {\n",
              "      background-color: #E8F0FE;\n",
              "      border: none;\n",
              "      border-radius: 50%;\n",
              "      cursor: pointer;\n",
              "      display: none;\n",
              "      fill: #1967D2;\n",
              "      height: 32px;\n",
              "      padding: 0 0 0 0;\n",
              "      width: 32px;\n",
              "    }\n",
              "\n",
              "    .colab-df-convert:hover {\n",
              "      background-color: #E2EBFA;\n",
              "      box-shadow: 0px 1px 2px rgba(60, 64, 67, 0.3), 0px 1px 3px 1px rgba(60, 64, 67, 0.15);\n",
              "      fill: #174EA6;\n",
              "    }\n",
              "\n",
              "    [theme=dark] .colab-df-convert {\n",
              "      background-color: #3B4455;\n",
              "      fill: #D2E3FC;\n",
              "    }\n",
              "\n",
              "    [theme=dark] .colab-df-convert:hover {\n",
              "      background-color: #434B5C;\n",
              "      box-shadow: 0px 1px 3px 1px rgba(0, 0, 0, 0.15);\n",
              "      filter: drop-shadow(0px 1px 2px rgba(0, 0, 0, 0.3));\n",
              "      fill: #FFFFFF;\n",
              "    }\n",
              "  </style>\n",
              "\n",
              "      <script>\n",
              "        const buttonEl =\n",
              "          document.querySelector('#df-28427e2f-4843-4e55-8a4e-3d03359bc5fa button.colab-df-convert');\n",
              "        buttonEl.style.display =\n",
              "          google.colab.kernel.accessAllowed ? 'block' : 'none';\n",
              "\n",
              "        async function convertToInteractive(key) {\n",
              "          const element = document.querySelector('#df-28427e2f-4843-4e55-8a4e-3d03359bc5fa');\n",
              "          const dataTable =\n",
              "            await google.colab.kernel.invokeFunction('convertToInteractive',\n",
              "                                                     [key], {});\n",
              "          if (!dataTable) return;\n",
              "\n",
              "          const docLinkHtml = 'Like what you see? Visit the ' +\n",
              "            '<a target=\"_blank\" href=https://colab.research.google.com/notebooks/data_table.ipynb>data table notebook</a>'\n",
              "            + ' to learn more about interactive tables.';\n",
              "          element.innerHTML = '';\n",
              "          dataTable['output_type'] = 'display_data';\n",
              "          await google.colab.output.renderOutput(dataTable, element);\n",
              "          const docLink = document.createElement('div');\n",
              "          docLink.innerHTML = docLinkHtml;\n",
              "          element.appendChild(docLink);\n",
              "        }\n",
              "      </script>\n",
              "    </div>\n",
              "  </div>\n",
              "  "
            ]
          },
          "metadata": {},
          "execution_count": 205
        }
      ]
    },
    {
      "cell_type": "markdown",
      "source": [
        "6. ### <b>Top 3 directors prefer which actors the most? </b>"
      ],
      "metadata": {
        "id": "bMu8Hd4KVgzz"
      }
    },
    {
      "cell_type": "code",
      "source": [],
      "metadata": {
        "id": "4Kwoxjydb_Yk"
      },
      "execution_count": null,
      "outputs": []
    }
  ]
}